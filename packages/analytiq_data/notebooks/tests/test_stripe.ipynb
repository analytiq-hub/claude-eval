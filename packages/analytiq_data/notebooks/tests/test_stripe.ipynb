{
 "cells": [
  {
   "cell_type": "code",
   "execution_count": 1,
   "metadata": {},
   "outputs": [],
   "source": [
    "%load_ext autoreload\n",
    "%autoreload 2"
   ]
  },
  {
   "cell_type": "code",
   "execution_count": 2,
   "metadata": {},
   "outputs": [],
   "source": [
    "import sys\n",
    "sys.path.append(\"../../..\")"
   ]
  },
  {
   "cell_type": "code",
   "execution_count": 3,
   "metadata": {},
   "outputs": [],
   "source": [
    "import os\n",
    "from datetime import datetime, UTC\n",
    "import analytiq_data as ad\n",
    "import asyncio\n",
    "from bson import ObjectId\n",
    "from dotenv import load_dotenv\n",
    "import docrouter_app.payments"
   ]
  },
  {
   "cell_type": "code",
   "execution_count": 4,
   "metadata": {},
   "outputs": [],
   "source": [
    "ad.common.setup()\n",
    "await docrouter_app.payments.init_payments_env()"
   ]
  },
  {
   "cell_type": "code",
   "execution_count": 5,
   "metadata": {},
   "outputs": [
    {
     "name": "stderr",
     "output_type": "stream",
     "text": [
      "2025-06-30 16:16:20,642 - docrouter_app.payments - WARNING - Starting deletion of ALL Stripe customers\n",
      "2025-06-30 16:16:20,647 - stripe - INFO - message='Request to Stripe api' method=get url=https://api.stripe.com/v1/customers?limit=10\n",
      "2025-06-30 16:16:20,962 - stripe - INFO - message='Stripe API response' path=https://api.stripe.com/v1/customers?limit=10 response_code=200\n",
      "2025-06-30 16:16:20,965 - stripe - INFO - message='Request to Stripe api' method=get url=https://api.stripe.com/v1/subscriptions?customer=cus_SawcfsptWMvKKf\n",
      "2025-06-30 16:16:21,177 - stripe - INFO - message='Stripe API response' path=https://api.stripe.com/v1/subscriptions?customer=cus_SawcfsptWMvKKf response_code=200\n",
      "2025-06-30 16:16:21,178 - docrouter_app.payments - INFO - Deleting subscription sub_1RfknEQ21OOWmU21uN0F2EAn for customer cus_SawcfsptWMvKKf\n",
      "2025-06-30 16:16:21,179 - stripe - INFO - message='Request to Stripe api' method=get url=https://api.stripe.com/v1/subscriptions?customer=cus_SYKOqv1XPZ7lEG\n",
      "2025-06-30 16:16:21,352 - stripe - INFO - message='Stripe API response' path=https://api.stripe.com/v1/subscriptions?customer=cus_SYKOqv1XPZ7lEG response_code=200\n",
      "2025-06-30 16:16:21,353 - docrouter_app.payments - INFO - Deleting subscription sub_1RdDjNQ21OOWmU21vYPbd49f for customer cus_SYKOqv1XPZ7lEG\n",
      "2025-06-30 16:16:21,354 - stripe - INFO - message='Request to Stripe api' method=get url=https://api.stripe.com/v1/subscriptions?customer=cus_SYKOwXgHBPaBaU\n",
      "2025-06-30 16:16:21,724 - stripe - INFO - message='Stripe API response' path=https://api.stripe.com/v1/subscriptions?customer=cus_SYKOwXgHBPaBaU response_code=200\n",
      "2025-06-30 16:16:21,725 - docrouter_app.payments - INFO - Deleting subscription sub_1RdDjNQ21OOWmU21aAUxOFNC for customer cus_SYKOwXgHBPaBaU\n",
      "2025-06-30 16:16:21,725 - stripe - INFO - message='Request to Stripe api' method=get url=https://api.stripe.com/v1/subscriptions?customer=cus_SYKOA9wc4Plnw0\n",
      "2025-06-30 16:16:21,907 - stripe - INFO - message='Stripe API response' path=https://api.stripe.com/v1/subscriptions?customer=cus_SYKOA9wc4Plnw0 response_code=200\n",
      "2025-06-30 16:16:21,909 - docrouter_app.payments - INFO - Deleting subscription sub_1RdDjNQ21OOWmU21f1jfCqLg for customer cus_SYKOA9wc4Plnw0\n",
      "2025-06-30 16:16:21,909 - stripe - INFO - message='Request to Stripe api' method=get url=https://api.stripe.com/v1/subscriptions?customer=cus_SYKOUAeHZWm68J\n",
      "2025-06-30 16:16:22,177 - stripe - INFO - message='Stripe API response' path=https://api.stripe.com/v1/subscriptions?customer=cus_SYKOUAeHZWm68J response_code=200\n",
      "2025-06-30 16:16:22,179 - docrouter_app.payments - INFO - Deleting subscription sub_1RdDjNQ21OOWmU21UzTTbpCh for customer cus_SYKOUAeHZWm68J\n",
      "2025-06-30 16:16:22,179 - stripe - INFO - message='Request to Stripe api' method=get url=https://api.stripe.com/v1/subscriptions?customer=cus_SYKOU366F1DvEM\n",
      "2025-06-30 16:16:22,354 - stripe - INFO - message='Stripe API response' path=https://api.stripe.com/v1/subscriptions?customer=cus_SYKOU366F1DvEM response_code=200\n",
      "2025-06-30 16:16:22,356 - docrouter_app.payments - INFO - Deleting subscription sub_1RdDjNQ21OOWmU21nnaKRNl7 for customer cus_SYKOU366F1DvEM\n",
      "2025-06-30 16:16:22,357 - stripe - INFO - message='Request to Stripe api' method=get url=https://api.stripe.com/v1/subscriptions?customer=cus_SYKORi70dWr2V3\n",
      "2025-06-30 16:16:22,645 - stripe - INFO - message='Stripe API response' path=https://api.stripe.com/v1/subscriptions?customer=cus_SYKORi70dWr2V3 response_code=200\n",
      "2025-06-30 16:16:22,646 - docrouter_app.payments - INFO - Deleting subscription sub_1RdDjNQ21OOWmU21yuLf0oZ8 for customer cus_SYKORi70dWr2V3\n",
      "2025-06-30 16:16:22,647 - stripe - INFO - message='Request to Stripe api' method=get url=https://api.stripe.com/v1/subscriptions?customer=cus_SYKOxFclGDREv4\n",
      "2025-06-30 16:16:22,952 - stripe - INFO - message='Stripe API response' path=https://api.stripe.com/v1/subscriptions?customer=cus_SYKOxFclGDREv4 response_code=200\n",
      "2025-06-30 16:16:22,953 - docrouter_app.payments - INFO - Deleting subscription sub_1RdDjLQ21OOWmU21scBIXmFJ for customer cus_SYKOxFclGDREv4\n",
      "2025-06-30 16:16:22,954 - stripe - INFO - message='Request to Stripe api' method=get url=https://api.stripe.com/v1/subscriptions?customer=cus_SYKOqKv7dKR3P0\n",
      "2025-06-30 16:16:23,130 - stripe - INFO - message='Stripe API response' path=https://api.stripe.com/v1/subscriptions?customer=cus_SYKOqKv7dKR3P0 response_code=200\n",
      "2025-06-30 16:16:23,131 - docrouter_app.payments - INFO - Deleting subscription sub_1RdDjLQ21OOWmU212PhoGf9x for customer cus_SYKOqKv7dKR3P0\n",
      "2025-06-30 16:16:23,132 - stripe - INFO - message='Request to Stripe api' method=get url=https://api.stripe.com/v1/subscriptions?customer=cus_SYKOrTzsy7ffMg\n",
      "2025-06-30 16:16:23,317 - stripe - INFO - message='Stripe API response' path=https://api.stripe.com/v1/subscriptions?customer=cus_SYKOrTzsy7ffMg response_code=200\n",
      "2025-06-30 16:16:23,319 - docrouter_app.payments - INFO - Deleting subscription sub_1RdDjLQ21OOWmU21F00UJfIt for customer cus_SYKOrTzsy7ffMg\n",
      "2025-06-30 16:16:23,320 - stripe - INFO - message='Request to Stripe api' method=delete url=https://api.stripe.com/v1/subscriptions/sub_1RfknEQ21OOWmU21uN0F2EAn\n",
      "2025-06-30 16:16:23,320 - stripe - INFO - message='Request to Stripe api' method=delete url=https://api.stripe.com/v1/subscriptions/sub_1RdDjNQ21OOWmU21vYPbd49f\n",
      "2025-06-30 16:16:23,320 - stripe - INFO - message='Request to Stripe api' method=delete url=https://api.stripe.com/v1/subscriptions/sub_1RdDjNQ21OOWmU21aAUxOFNC\n",
      "2025-06-30 16:16:23,322 - stripe - INFO - message='Request to Stripe api' method=delete url=https://api.stripe.com/v1/subscriptions/sub_1RdDjNQ21OOWmU21f1jfCqLg\n",
      "2025-06-30 16:16:23,323 - stripe - INFO - message='Request to Stripe api' method=delete url=https://api.stripe.com/v1/subscriptions/sub_1RdDjNQ21OOWmU21UzTTbpCh\n",
      "2025-06-30 16:16:23,325 - stripe - INFO - message='Request to Stripe api' method=delete url=https://api.stripe.com/v1/subscriptions/sub_1RdDjNQ21OOWmU21nnaKRNl7\n",
      "2025-06-30 16:16:23,325 - stripe - INFO - message='Request to Stripe api' method=delete url=https://api.stripe.com/v1/subscriptions/sub_1RdDjNQ21OOWmU21yuLf0oZ8\n",
      "2025-06-30 16:16:23,326 - stripe - INFO - message='Request to Stripe api' method=delete url=https://api.stripe.com/v1/subscriptions/sub_1RdDjLQ21OOWmU21scBIXmFJ\n",
      "2025-06-30 16:16:23,327 - stripe - INFO - message='Request to Stripe api' method=delete url=https://api.stripe.com/v1/subscriptions/sub_1RdDjLQ21OOWmU212PhoGf9x\n",
      "2025-06-30 16:16:23,327 - stripe - INFO - message='Request to Stripe api' method=delete url=https://api.stripe.com/v1/subscriptions/sub_1RdDjLQ21OOWmU21F00UJfIt\n",
      "2025-06-30 16:16:23,874 - stripe - INFO - message='Stripe API response' path=https://api.stripe.com/v1/subscriptions/sub_1RdDjNQ21OOWmU21UzTTbpCh response_code=200\n",
      "2025-06-30 16:16:23,875 - stripe - INFO - message='Stripe API response' path=https://api.stripe.com/v1/subscriptions/sub_1RdDjLQ21OOWmU21F00UJfIt response_code=200\n",
      "2025-06-30 16:16:23,876 - stripe - INFO - message='Stripe API response' path=https://api.stripe.com/v1/subscriptions/sub_1RfknEQ21OOWmU21uN0F2EAn response_code=200\n",
      "2025-06-30 16:16:23,878 - stripe - INFO - message='Stripe API response' path=https://api.stripe.com/v1/subscriptions/sub_1RdDjNQ21OOWmU21vYPbd49f response_code=200\n",
      "2025-06-30 16:16:23,894 - stripe - INFO - message='Stripe API response' path=https://api.stripe.com/v1/subscriptions/sub_1RdDjNQ21OOWmU21nnaKRNl7 response_code=200\n",
      "2025-06-30 16:16:23,896 - stripe - INFO - message='Stripe API response' path=https://api.stripe.com/v1/subscriptions/sub_1RdDjNQ21OOWmU21f1jfCqLg response_code=200\n",
      "2025-06-30 16:16:23,902 - stripe - INFO - message='Stripe API response' path=https://api.stripe.com/v1/subscriptions/sub_1RdDjLQ21OOWmU212PhoGf9x response_code=200\n",
      "2025-06-30 16:16:23,904 - stripe - INFO - message='Stripe API response' path=https://api.stripe.com/v1/subscriptions/sub_1RdDjLQ21OOWmU21scBIXmFJ response_code=200\n",
      "2025-06-30 16:16:23,909 - stripe - INFO - message='Stripe API response' path=https://api.stripe.com/v1/subscriptions/sub_1RdDjNQ21OOWmU21yuLf0oZ8 response_code=200\n",
      "2025-06-30 16:16:23,945 - stripe - INFO - message='Stripe API response' path=https://api.stripe.com/v1/subscriptions/sub_1RdDjNQ21OOWmU21aAUxOFNC response_code=200\n",
      "2025-06-30 16:16:23,946 - docrouter_app.payments - INFO - Deleted Stripe customer: cus_SawcfsptWMvKKf\n",
      "2025-06-30 16:16:23,946 - docrouter_app.payments - INFO - Deleted Stripe customer: cus_SYKOqv1XPZ7lEG\n",
      "2025-06-30 16:16:23,947 - docrouter_app.payments - INFO - Deleted Stripe customer: cus_SYKOwXgHBPaBaU\n",
      "2025-06-30 16:16:23,947 - docrouter_app.payments - INFO - Deleted Stripe customer: cus_SYKOA9wc4Plnw0\n",
      "2025-06-30 16:16:23,947 - docrouter_app.payments - INFO - Deleted Stripe customer: cus_SYKOUAeHZWm68J\n",
      "2025-06-30 16:16:23,948 - docrouter_app.payments - INFO - Deleted Stripe customer: cus_SYKOU366F1DvEM\n",
      "2025-06-30 16:16:23,948 - docrouter_app.payments - INFO - Deleted Stripe customer: cus_SYKORi70dWr2V3\n",
      "2025-06-30 16:16:23,948 - docrouter_app.payments - INFO - Deleted Stripe customer: cus_SYKOxFclGDREv4\n",
      "2025-06-30 16:16:23,949 - docrouter_app.payments - INFO - Deleted Stripe customer: cus_SYKOqKv7dKR3P0\n",
      "2025-06-30 16:16:23,949 - docrouter_app.payments - INFO - Deleted Stripe customer: cus_SYKOrTzsy7ffMg\n",
      "2025-06-30 16:16:23,950 - stripe - INFO - message='Request to Stripe api' method=delete url=https://api.stripe.com/v1/customers/cus_SawcfsptWMvKKf\n",
      "2025-06-30 16:16:23,950 - stripe - INFO - message='Request to Stripe api' method=delete url=https://api.stripe.com/v1/customers/cus_SYKOqv1XPZ7lEG\n",
      "2025-06-30 16:16:23,950 - stripe - INFO - message='Request to Stripe api' method=delete url=https://api.stripe.com/v1/customers/cus_SYKOqKv7dKR3P0\n",
      "2025-06-30 16:16:23,950 - stripe - INFO - message='Request to Stripe api' method=delete url=https://api.stripe.com/v1/customers/cus_SYKOwXgHBPaBaU\n",
      "2025-06-30 16:16:23,950 - stripe - INFO - message='Request to Stripe api' method=delete url=https://api.stripe.com/v1/customers/cus_SYKOU366F1DvEM\n",
      "2025-06-30 16:16:23,950 - stripe - INFO - message='Request to Stripe api' method=delete url=https://api.stripe.com/v1/customers/cus_SYKOA9wc4Plnw0\n",
      "2025-06-30 16:16:23,950 - stripe - INFO - message='Request to Stripe api' method=delete url=https://api.stripe.com/v1/customers/cus_SYKOUAeHZWm68J\n",
      "2025-06-30 16:16:23,950 - stripe - INFO - message='Request to Stripe api' method=delete url=https://api.stripe.com/v1/customers/cus_SYKORi70dWr2V3\n",
      "2025-06-30 16:16:23,952 - stripe - INFO - message='Request to Stripe api' method=delete url=https://api.stripe.com/v1/customers/cus_SYKOrTzsy7ffMg\n",
      "2025-06-30 16:16:23,952 - stripe - INFO - message='Request to Stripe api' method=delete url=https://api.stripe.com/v1/customers/cus_SYKOxFclGDREv4\n",
      "2025-06-30 16:16:24,229 - stripe - INFO - message='Stripe API response' path=https://api.stripe.com/v1/customers/cus_SYKORi70dWr2V3 response_code=200\n",
      "2025-06-30 16:16:24,230 - stripe - INFO - message='Stripe API response' path=https://api.stripe.com/v1/customers/cus_SYKOxFclGDREv4 response_code=200\n",
      "2025-06-30 16:16:24,243 - stripe - INFO - message='Stripe API response' path=https://api.stripe.com/v1/customers/cus_SYKOqKv7dKR3P0 response_code=200\n",
      "2025-06-30 16:16:24,255 - stripe - INFO - message='Stripe API response' path=https://api.stripe.com/v1/customers/cus_SYKOwXgHBPaBaU response_code=200\n",
      "2025-06-30 16:16:24,258 - stripe - INFO - message='Stripe API response' path=https://api.stripe.com/v1/customers/cus_SYKOqv1XPZ7lEG response_code=200\n",
      "2025-06-30 16:16:24,259 - stripe - INFO - message='Stripe API response' path=https://api.stripe.com/v1/customers/cus_SYKOrTzsy7ffMg response_code=200\n",
      "2025-06-30 16:16:24,263 - stripe - INFO - message='Stripe API response' path=https://api.stripe.com/v1/customers/cus_SYKOA9wc4Plnw0 response_code=200\n",
      "2025-06-30 16:16:24,272 - stripe - INFO - message='Stripe API response' path=https://api.stripe.com/v1/customers/cus_SYKOUAeHZWm68J response_code=200\n",
      "2025-06-30 16:16:24,273 - stripe - INFO - message='Stripe API response' path=https://api.stripe.com/v1/customers/cus_SYKOU366F1DvEM response_code=200\n",
      "2025-06-30 16:16:24,288 - stripe - INFO - message='Stripe API response' path=https://api.stripe.com/v1/customers/cus_SawcfsptWMvKKf response_code=200\n",
      "2025-06-30 16:16:24,289 - stripe - INFO - message='Request to Stripe api' method=get url=https://api.stripe.com/v1/customers?limit=10&starting_after=cus_SYKOrTzsy7ffMg\n",
      "2025-06-30 16:16:24,591 - stripe - INFO - message='Stripe API response' path=https://api.stripe.com/v1/customers?limit=10&starting_after=cus_SYKOrTzsy7ffMg response_code=200\n",
      "2025-06-30 16:16:24,594 - stripe - INFO - message='Request to Stripe api' method=get url=https://api.stripe.com/v1/subscriptions?customer=cus_SYKOwxjeyZeh9P\n",
      "2025-06-30 16:16:24,795 - stripe - INFO - message='Stripe API response' path=https://api.stripe.com/v1/subscriptions?customer=cus_SYKOwxjeyZeh9P response_code=200\n",
      "2025-06-30 16:16:24,796 - docrouter_app.payments - INFO - Deleting subscription sub_1RdDjLQ21OOWmU21Cd7MoxpS for customer cus_SYKOwxjeyZeh9P\n",
      "2025-06-30 16:16:24,797 - stripe - INFO - message='Request to Stripe api' method=get url=https://api.stripe.com/v1/subscriptions?customer=cus_SYKOUMoVfFla7j\n",
      "2025-06-30 16:16:24,999 - stripe - INFO - message='Stripe API response' path=https://api.stripe.com/v1/subscriptions?customer=cus_SYKOUMoVfFla7j response_code=200\n",
      "2025-06-30 16:16:25,000 - docrouter_app.payments - INFO - Deleting subscription sub_1RdDjLQ21OOWmU21dLyLhu8Y for customer cus_SYKOUMoVfFla7j\n",
      "2025-06-30 16:16:25,001 - stripe - INFO - message='Request to Stripe api' method=get url=https://api.stripe.com/v1/subscriptions?customer=cus_SYKOwIUmKrVvk1\n",
      "2025-06-30 16:16:25,307 - stripe - INFO - message='Stripe API response' path=https://api.stripe.com/v1/subscriptions?customer=cus_SYKOwIUmKrVvk1 response_code=200\n",
      "2025-06-30 16:16:25,308 - docrouter_app.payments - INFO - Deleting subscription sub_1RdDjLQ21OOWmU21DBWoTRxc for customer cus_SYKOwIUmKrVvk1\n",
      "2025-06-30 16:16:25,309 - stripe - INFO - message='Request to Stripe api' method=get url=https://api.stripe.com/v1/subscriptions?customer=cus_SYKOTiFw5MsFR2\n",
      "2025-06-30 16:16:25,485 - stripe - INFO - message='Stripe API response' path=https://api.stripe.com/v1/subscriptions?customer=cus_SYKOTiFw5MsFR2 response_code=200\n",
      "2025-06-30 16:16:25,486 - docrouter_app.payments - INFO - Deleting subscription sub_1RdDjLQ21OOWmU21ix4m2tVE for customer cus_SYKOTiFw5MsFR2\n",
      "2025-06-30 16:16:25,487 - stripe - INFO - message='Request to Stripe api' method=get url=https://api.stripe.com/v1/subscriptions?customer=cus_SYKOrQ4JoJwI8E\n",
      "2025-06-30 16:16:25,683 - stripe - INFO - message='Stripe API response' path=https://api.stripe.com/v1/subscriptions?customer=cus_SYKOrQ4JoJwI8E response_code=200\n",
      "2025-06-30 16:16:25,684 - docrouter_app.payments - INFO - Deleting subscription sub_1RdDjLQ21OOWmU21a7efDue2 for customer cus_SYKOrQ4JoJwI8E\n",
      "2025-06-30 16:16:25,685 - stripe - INFO - message='Request to Stripe api' method=get url=https://api.stripe.com/v1/subscriptions?customer=cus_SYKOBXGWmXIVA8\n",
      "2025-06-30 16:16:25,921 - stripe - INFO - message='Stripe API response' path=https://api.stripe.com/v1/subscriptions?customer=cus_SYKOBXGWmXIVA8 response_code=200\n",
      "2025-06-30 16:16:25,922 - docrouter_app.payments - INFO - Deleting subscription sub_1RdDjLQ21OOWmU21mVWdVbwb for customer cus_SYKOBXGWmXIVA8\n",
      "2025-06-30 16:16:25,923 - stripe - INFO - message='Request to Stripe api' method=get url=https://api.stripe.com/v1/subscriptions?customer=cus_SYKOsGbojAqN2A\n",
      "2025-06-30 16:16:26,100 - stripe - INFO - message='Stripe API response' path=https://api.stripe.com/v1/subscriptions?customer=cus_SYKOsGbojAqN2A response_code=200\n",
      "2025-06-30 16:16:26,101 - docrouter_app.payments - INFO - Deleting subscription sub_1RdDjLQ21OOWmU210dAIiSiU for customer cus_SYKOsGbojAqN2A\n",
      "2025-06-30 16:16:26,101 - stripe - INFO - message='Request to Stripe api' method=get url=https://api.stripe.com/v1/subscriptions?customer=cus_SYKOYruBFyX7ty\n",
      "2025-06-30 16:16:26,290 - stripe - INFO - message='Stripe API response' path=https://api.stripe.com/v1/subscriptions?customer=cus_SYKOYruBFyX7ty response_code=200\n",
      "2025-06-30 16:16:26,291 - docrouter_app.payments - INFO - Deleting subscription sub_1RdDjIQ21OOWmU21LvyvvWgN for customer cus_SYKOYruBFyX7ty\n",
      "2025-06-30 16:16:26,292 - stripe - INFO - message='Request to Stripe api' method=get url=https://api.stripe.com/v1/subscriptions?customer=cus_SYKOIB5Mx3aL6f\n",
      "2025-06-30 16:16:26,467 - stripe - INFO - message='Stripe API response' path=https://api.stripe.com/v1/subscriptions?customer=cus_SYKOIB5Mx3aL6f response_code=200\n",
      "2025-06-30 16:16:26,468 - docrouter_app.payments - INFO - Deleting subscription sub_1RdDjIQ21OOWmU21A4CMKUiu for customer cus_SYKOIB5Mx3aL6f\n",
      "2025-06-30 16:16:26,469 - stripe - INFO - message='Request to Stripe api' method=get url=https://api.stripe.com/v1/subscriptions?customer=cus_SYKO59Fi8CpPY8\n",
      "2025-06-30 16:16:26,642 - stripe - INFO - message='Stripe API response' path=https://api.stripe.com/v1/subscriptions?customer=cus_SYKO59Fi8CpPY8 response_code=200\n",
      "2025-06-30 16:16:26,643 - docrouter_app.payments - INFO - Deleting subscription sub_1RdDjIQ21OOWmU21G0BTxaRI for customer cus_SYKO59Fi8CpPY8\n",
      "2025-06-30 16:16:26,643 - stripe - INFO - message='Request to Stripe api' method=delete url=https://api.stripe.com/v1/subscriptions/sub_1RdDjLQ21OOWmU21mVWdVbwb\n",
      "2025-06-30 16:16:26,644 - stripe - INFO - message='Request to Stripe api' method=delete url=https://api.stripe.com/v1/subscriptions/sub_1RdDjIQ21OOWmU21G0BTxaRI\n",
      "2025-06-30 16:16:26,644 - stripe - INFO - message='Request to Stripe api' method=delete url=https://api.stripe.com/v1/subscriptions/sub_1RdDjLQ21OOWmU21Cd7MoxpS\n",
      "2025-06-30 16:16:26,644 - stripe - INFO - message='Request to Stripe api' method=delete url=https://api.stripe.com/v1/subscriptions/sub_1RdDjLQ21OOWmU21DBWoTRxc\n",
      "2025-06-30 16:16:26,644 - stripe - INFO - message='Request to Stripe api' method=delete url=https://api.stripe.com/v1/subscriptions/sub_1RdDjLQ21OOWmU210dAIiSiU\n",
      "2025-06-30 16:16:26,644 - stripe - INFO - message='Request to Stripe api' method=delete url=https://api.stripe.com/v1/subscriptions/sub_1RdDjLQ21OOWmU21dLyLhu8Y\n",
      "2025-06-30 16:16:26,644 - stripe - INFO - message='Request to Stripe api' method=delete url=https://api.stripe.com/v1/subscriptions/sub_1RdDjLQ21OOWmU21a7efDue2\n",
      "2025-06-30 16:16:26,644 - stripe - INFO - message='Request to Stripe api' method=delete url=https://api.stripe.com/v1/subscriptions/sub_1RdDjIQ21OOWmU21LvyvvWgN\n",
      "2025-06-30 16:16:26,645 - stripe - INFO - message='Request to Stripe api' method=delete url=https://api.stripe.com/v1/subscriptions/sub_1RdDjIQ21OOWmU21A4CMKUiu\n",
      "2025-06-30 16:16:26,645 - stripe - INFO - message='Request to Stripe api' method=delete url=https://api.stripe.com/v1/subscriptions/sub_1RdDjLQ21OOWmU21ix4m2tVE\n",
      "2025-06-30 16:16:27,086 - stripe - INFO - message='Stripe API response' path=https://api.stripe.com/v1/subscriptions/sub_1RdDjLQ21OOWmU21mVWdVbwb response_code=200\n",
      "2025-06-30 16:16:27,107 - stripe - INFO - message='Stripe API response' path=https://api.stripe.com/v1/subscriptions/sub_1RdDjIQ21OOWmU21LvyvvWgN response_code=200\n",
      "2025-06-30 16:16:27,108 - stripe - INFO - message='Stripe API response' path=https://api.stripe.com/v1/subscriptions/sub_1RdDjLQ21OOWmU21a7efDue2 response_code=200\n",
      "2025-06-30 16:16:27,109 - stripe - INFO - message='Stripe API response' path=https://api.stripe.com/v1/subscriptions/sub_1RdDjLQ21OOWmU21Cd7MoxpS response_code=200\n",
      "2025-06-30 16:16:27,110 - stripe - INFO - message='Stripe API response' path=https://api.stripe.com/v1/subscriptions/sub_1RdDjIQ21OOWmU21G0BTxaRI response_code=200\n",
      "2025-06-30 16:16:27,113 - stripe - INFO - message='Stripe API response' path=https://api.stripe.com/v1/subscriptions/sub_1RdDjLQ21OOWmU21dLyLhu8Y response_code=200\n",
      "2025-06-30 16:16:27,113 - stripe - INFO - message='Stripe API response' path=https://api.stripe.com/v1/subscriptions/sub_1RdDjIQ21OOWmU21A4CMKUiu response_code=200\n",
      "2025-06-30 16:16:27,114 - stripe - INFO - message='Stripe API response' path=https://api.stripe.com/v1/subscriptions/sub_1RdDjLQ21OOWmU21DBWoTRxc response_code=200\n",
      "2025-06-30 16:16:27,117 - stripe - INFO - message='Stripe API response' path=https://api.stripe.com/v1/subscriptions/sub_1RdDjLQ21OOWmU210dAIiSiU response_code=200\n",
      "2025-06-30 16:16:27,126 - stripe - INFO - message='Stripe API response' path=https://api.stripe.com/v1/subscriptions/sub_1RdDjLQ21OOWmU21ix4m2tVE response_code=200\n",
      "2025-06-30 16:16:27,128 - docrouter_app.payments - INFO - Deleted Stripe customer: cus_SYKOwxjeyZeh9P\n",
      "2025-06-30 16:16:27,129 - docrouter_app.payments - INFO - Deleted Stripe customer: cus_SYKOUMoVfFla7j\n",
      "2025-06-30 16:16:27,129 - docrouter_app.payments - INFO - Deleted Stripe customer: cus_SYKOwIUmKrVvk1\n",
      "2025-06-30 16:16:27,129 - docrouter_app.payments - INFO - Deleted Stripe customer: cus_SYKOTiFw5MsFR2\n",
      "2025-06-30 16:16:27,130 - docrouter_app.payments - INFO - Deleted Stripe customer: cus_SYKOrQ4JoJwI8E\n",
      "2025-06-30 16:16:27,130 - docrouter_app.payments - INFO - Deleted Stripe customer: cus_SYKOBXGWmXIVA8\n",
      "2025-06-30 16:16:27,130 - docrouter_app.payments - INFO - Deleted Stripe customer: cus_SYKOsGbojAqN2A\n",
      "2025-06-30 16:16:27,130 - docrouter_app.payments - INFO - Deleted Stripe customer: cus_SYKOYruBFyX7ty\n",
      "2025-06-30 16:16:27,131 - docrouter_app.payments - INFO - Deleted Stripe customer: cus_SYKOIB5Mx3aL6f\n",
      "2025-06-30 16:16:27,131 - docrouter_app.payments - INFO - Deleted Stripe customer: cus_SYKO59Fi8CpPY8\n",
      "2025-06-30 16:16:27,132 - stripe - INFO - message='Request to Stripe api' method=delete url=https://api.stripe.com/v1/customers/cus_SYKO59Fi8CpPY8\n",
      "2025-06-30 16:16:27,132 - stripe - INFO - message='Request to Stripe api' method=delete url=https://api.stripe.com/v1/customers/cus_SYKOrQ4JoJwI8E\n",
      "2025-06-30 16:16:27,133 - stripe - INFO - message='Request to Stripe api' method=delete url=https://api.stripe.com/v1/customers/cus_SYKOUMoVfFla7j\n",
      "2025-06-30 16:16:27,133 - stripe - INFO - message='Request to Stripe api' method=delete url=https://api.stripe.com/v1/customers/cus_SYKOBXGWmXIVA8\n",
      "2025-06-30 16:16:27,133 - stripe - INFO - message='Request to Stripe api' method=delete url=https://api.stripe.com/v1/customers/cus_SYKOsGbojAqN2A\n",
      "2025-06-30 16:16:27,133 - stripe - INFO - message='Request to Stripe api' method=delete url=https://api.stripe.com/v1/customers/cus_SYKOYruBFyX7ty\n",
      "2025-06-30 16:16:27,133 - stripe - INFO - message='Request to Stripe api' method=delete url=https://api.stripe.com/v1/customers/cus_SYKOIB5Mx3aL6f\n",
      "2025-06-30 16:16:27,134 - stripe - INFO - message='Request to Stripe api' method=delete url=https://api.stripe.com/v1/customers/cus_SYKOTiFw5MsFR2\n",
      "2025-06-30 16:16:27,134 - stripe - INFO - message='Request to Stripe api' method=delete url=https://api.stripe.com/v1/customers/cus_SYKOwxjeyZeh9P\n",
      "2025-06-30 16:16:27,135 - stripe - INFO - message='Request to Stripe api' method=delete url=https://api.stripe.com/v1/customers/cus_SYKOwIUmKrVvk1\n",
      "2025-06-30 16:16:27,458 - stripe - INFO - message='Stripe API response' path=https://api.stripe.com/v1/customers/cus_SYKOBXGWmXIVA8 response_code=200\n",
      "2025-06-30 16:16:27,459 - stripe - INFO - message='Stripe API response' path=https://api.stripe.com/v1/customers/cus_SYKOTiFw5MsFR2 response_code=200\n",
      "2025-06-30 16:16:27,460 - stripe - INFO - message='Stripe API response' path=https://api.stripe.com/v1/customers/cus_SYKOYruBFyX7ty response_code=200\n",
      "2025-06-30 16:16:27,461 - stripe - INFO - message='Stripe API response' path=https://api.stripe.com/v1/customers/cus_SYKOUMoVfFla7j response_code=200\n",
      "2025-06-30 16:16:27,462 - stripe - INFO - message='Stripe API response' path=https://api.stripe.com/v1/customers/cus_SYKOsGbojAqN2A response_code=200\n",
      "2025-06-30 16:16:27,463 - stripe - INFO - message='Stripe API response' path=https://api.stripe.com/v1/customers/cus_SYKOwIUmKrVvk1 response_code=200\n",
      "2025-06-30 16:16:27,464 - stripe - INFO - message='Stripe API response' path=https://api.stripe.com/v1/customers/cus_SYKOrQ4JoJwI8E response_code=200\n",
      "2025-06-30 16:16:27,465 - stripe - INFO - message='Stripe API response' path=https://api.stripe.com/v1/customers/cus_SYKOwxjeyZeh9P response_code=200\n",
      "2025-06-30 16:16:27,467 - stripe - INFO - message='Stripe API response' path=https://api.stripe.com/v1/customers/cus_SYKOIB5Mx3aL6f response_code=200\n",
      "2025-06-30 16:16:27,468 - stripe - INFO - message='Stripe API response' path=https://api.stripe.com/v1/customers/cus_SYKO59Fi8CpPY8 response_code=200\n",
      "2025-06-30 16:16:27,482 - stripe - INFO - message='Request to Stripe api' method=get url=https://api.stripe.com/v1/customers?limit=10&starting_after=cus_SYKO59Fi8CpPY8\n",
      "2025-06-30 16:16:27,711 - stripe - INFO - message='Stripe API response' path=https://api.stripe.com/v1/customers?limit=10&starting_after=cus_SYKO59Fi8CpPY8 response_code=200\n",
      "2025-06-30 16:16:27,714 - stripe - INFO - message='Request to Stripe api' method=get url=https://api.stripe.com/v1/subscriptions?customer=cus_SYKOOrzGpAzcjM\n",
      "2025-06-30 16:16:28,061 - stripe - INFO - message='Stripe API response' path=https://api.stripe.com/v1/subscriptions?customer=cus_SYKOOrzGpAzcjM response_code=200\n",
      "2025-06-30 16:16:28,064 - docrouter_app.payments - INFO - Deleting subscription sub_1RdDjIQ21OOWmU21inly9Df2 for customer cus_SYKOOrzGpAzcjM\n",
      "2025-06-30 16:16:28,065 - stripe - INFO - message='Request to Stripe api' method=get url=https://api.stripe.com/v1/subscriptions?customer=cus_SYKOooEkXQjkky\n",
      "2025-06-30 16:16:28,249 - stripe - INFO - message='Stripe API response' path=https://api.stripe.com/v1/subscriptions?customer=cus_SYKOooEkXQjkky response_code=200\n",
      "2025-06-30 16:16:28,250 - docrouter_app.payments - INFO - Deleting subscription sub_1RdDjIQ21OOWmU21kVq1Ht40 for customer cus_SYKOooEkXQjkky\n",
      "2025-06-30 16:16:28,251 - stripe - INFO - message='Request to Stripe api' method=get url=https://api.stripe.com/v1/subscriptions?customer=cus_SYKOwIPaNa3KFr\n",
      "2025-06-30 16:16:28,451 - stripe - INFO - message='Stripe API response' path=https://api.stripe.com/v1/subscriptions?customer=cus_SYKOwIPaNa3KFr response_code=200\n",
      "2025-06-30 16:16:28,454 - docrouter_app.payments - INFO - Deleting subscription sub_1RdDjIQ21OOWmU215mpKMF5Z for customer cus_SYKOwIPaNa3KFr\n",
      "2025-06-30 16:16:28,456 - stripe - INFO - message='Request to Stripe api' method=get url=https://api.stripe.com/v1/subscriptions?customer=cus_SYKOQ35CeCwUlf\n",
      "2025-06-30 16:16:28,665 - stripe - INFO - message='Stripe API response' path=https://api.stripe.com/v1/subscriptions?customer=cus_SYKOQ35CeCwUlf response_code=200\n",
      "2025-06-30 16:16:28,668 - docrouter_app.payments - INFO - Deleting subscription sub_1RdDjIQ21OOWmU21atTDKPKR for customer cus_SYKOQ35CeCwUlf\n",
      "2025-06-30 16:16:28,670 - stripe - INFO - message='Request to Stripe api' method=get url=https://api.stripe.com/v1/subscriptions?customer=cus_SYKOHdjJJAncvO\n",
      "2025-06-30 16:16:28,856 - stripe - INFO - message='Stripe API response' path=https://api.stripe.com/v1/subscriptions?customer=cus_SYKOHdjJJAncvO response_code=200\n",
      "2025-06-30 16:16:28,857 - docrouter_app.payments - INFO - Deleting subscription sub_1RdDjIQ21OOWmU21lPkEwWBx for customer cus_SYKOHdjJJAncvO\n",
      "2025-06-30 16:16:28,858 - stripe - INFO - message='Request to Stripe api' method=get url=https://api.stripe.com/v1/subscriptions?customer=cus_SYKOOvAimrPNpS\n",
      "2025-06-30 16:16:29,051 - stripe - INFO - message='Stripe API response' path=https://api.stripe.com/v1/subscriptions?customer=cus_SYKOOvAimrPNpS response_code=200\n",
      "2025-06-30 16:16:29,055 - docrouter_app.payments - INFO - Deleting subscription sub_1RdDjIQ21OOWmU218BDkyBtG for customer cus_SYKOOvAimrPNpS\n",
      "2025-06-30 16:16:29,056 - stripe - INFO - message='Request to Stripe api' method=get url=https://api.stripe.com/v1/subscriptions?customer=cus_SYKO37Ji41bDxl\n",
      "2025-06-30 16:16:29,234 - stripe - INFO - message='Stripe API response' path=https://api.stripe.com/v1/subscriptions?customer=cus_SYKO37Ji41bDxl response_code=200\n",
      "2025-06-30 16:16:29,237 - docrouter_app.payments - INFO - Deleting subscription sub_1RdDjJQ21OOWmU21o4x58osX for customer cus_SYKO37Ji41bDxl\n",
      "2025-06-30 16:16:29,238 - stripe - INFO - message='Request to Stripe api' method=get url=https://api.stripe.com/v1/subscriptions?customer=cus_SYKOZ67io8JuU1\n",
      "2025-06-30 16:16:29,506 - stripe - INFO - message='Stripe API response' path=https://api.stripe.com/v1/subscriptions?customer=cus_SYKOZ67io8JuU1 response_code=200\n",
      "2025-06-30 16:16:29,509 - docrouter_app.payments - INFO - Deleting subscription sub_1RdDjGQ21OOWmU21HsS8dKcX for customer cus_SYKOZ67io8JuU1\n",
      "2025-06-30 16:16:29,511 - stripe - INFO - message='Request to Stripe api' method=get url=https://api.stripe.com/v1/subscriptions?customer=cus_SYKOxBhQqiWf98\n",
      "2025-06-30 16:16:29,689 - stripe - INFO - message='Stripe API response' path=https://api.stripe.com/v1/subscriptions?customer=cus_SYKOxBhQqiWf98 response_code=200\n",
      "2025-06-30 16:16:29,692 - docrouter_app.payments - INFO - Deleting subscription sub_1RdDjGQ21OOWmU21kBAmv0dC for customer cus_SYKOxBhQqiWf98\n",
      "2025-06-30 16:16:29,693 - stripe - INFO - message='Request to Stripe api' method=get url=https://api.stripe.com/v1/subscriptions?customer=cus_SYKOPD1b4tXsR2\n",
      "2025-06-30 16:16:29,880 - stripe - INFO - message='Stripe API response' path=https://api.stripe.com/v1/subscriptions?customer=cus_SYKOPD1b4tXsR2 response_code=200\n",
      "2025-06-30 16:16:29,882 - docrouter_app.payments - INFO - Deleting subscription sub_1RdDjGQ21OOWmU21T6J5d338 for customer cus_SYKOPD1b4tXsR2\n",
      "2025-06-30 16:16:29,884 - stripe - INFO - message='Request to Stripe api' method=delete url=https://api.stripe.com/v1/subscriptions/sub_1RdDjGQ21OOWmU21kBAmv0dC\n",
      "2025-06-30 16:16:29,884 - stripe - INFO - message='Request to Stripe api' method=delete url=https://api.stripe.com/v1/subscriptions/sub_1RdDjIQ21OOWmU21inly9Df2\n",
      "2025-06-30 16:16:29,884 - stripe - INFO - message='Request to Stripe api' method=delete url=https://api.stripe.com/v1/subscriptions/sub_1RdDjIQ21OOWmU21kVq1Ht40\n",
      "2025-06-30 16:16:29,885 - stripe - INFO - message='Request to Stripe api' method=delete url=https://api.stripe.com/v1/subscriptions/sub_1RdDjIQ21OOWmU21lPkEwWBx\n",
      "2025-06-30 16:16:29,885 - stripe - INFO - message='Request to Stripe api' method=delete url=https://api.stripe.com/v1/subscriptions/sub_1RdDjIQ21OOWmU215mpKMF5Z\n",
      "2025-06-30 16:16:29,885 - stripe - INFO - message='Request to Stripe api' method=delete url=https://api.stripe.com/v1/subscriptions/sub_1RdDjIQ21OOWmU21atTDKPKR\n",
      "2025-06-30 16:16:29,885 - stripe - INFO - message='Request to Stripe api' method=delete url=https://api.stripe.com/v1/subscriptions/sub_1RdDjJQ21OOWmU21o4x58osX\n",
      "2025-06-30 16:16:29,886 - stripe - INFO - message='Request to Stripe api' method=delete url=https://api.stripe.com/v1/subscriptions/sub_1RdDjGQ21OOWmU21HsS8dKcX\n",
      "2025-06-30 16:16:29,886 - stripe - INFO - message='Request to Stripe api' method=delete url=https://api.stripe.com/v1/subscriptions/sub_1RdDjIQ21OOWmU218BDkyBtG\n",
      "2025-06-30 16:16:29,886 - stripe - INFO - message='Request to Stripe api' method=delete url=https://api.stripe.com/v1/subscriptions/sub_1RdDjGQ21OOWmU21T6J5d338\n",
      "2025-06-30 16:16:30,361 - stripe - INFO - message='Stripe API response' path=https://api.stripe.com/v1/subscriptions/sub_1RdDjGQ21OOWmU21HsS8dKcX response_code=200\n",
      "2025-06-30 16:16:30,365 - stripe - INFO - message='Stripe API response' path=https://api.stripe.com/v1/subscriptions/sub_1RdDjJQ21OOWmU21o4x58osX response_code=200\n",
      "2025-06-30 16:16:30,367 - stripe - INFO - message='Stripe API response' path=https://api.stripe.com/v1/subscriptions/sub_1RdDjIQ21OOWmU215mpKMF5Z response_code=200\n",
      "2025-06-30 16:16:30,369 - stripe - INFO - message='Stripe API response' path=https://api.stripe.com/v1/subscriptions/sub_1RdDjGQ21OOWmU21T6J5d338 response_code=200\n",
      "2025-06-30 16:16:30,372 - stripe - INFO - message='Stripe API response' path=https://api.stripe.com/v1/subscriptions/sub_1RdDjIQ21OOWmU21inly9Df2 response_code=200\n",
      "2025-06-30 16:16:30,375 - stripe - INFO - message='Stripe API response' path=https://api.stripe.com/v1/subscriptions/sub_1RdDjGQ21OOWmU21kBAmv0dC response_code=200\n",
      "2025-06-30 16:16:30,385 - stripe - INFO - message='Stripe API response' path=https://api.stripe.com/v1/subscriptions/sub_1RdDjIQ21OOWmU21lPkEwWBx response_code=200\n",
      "2025-06-30 16:16:30,386 - stripe - INFO - message='Stripe API response' path=https://api.stripe.com/v1/subscriptions/sub_1RdDjIQ21OOWmU21kVq1Ht40 response_code=200\n",
      "2025-06-30 16:16:30,393 - stripe - INFO - message='Stripe API response' path=https://api.stripe.com/v1/subscriptions/sub_1RdDjIQ21OOWmU21atTDKPKR response_code=200\n",
      "2025-06-30 16:16:30,667 - stripe - INFO - message='Stripe API response' path=https://api.stripe.com/v1/subscriptions/sub_1RdDjIQ21OOWmU218BDkyBtG response_code=200\n",
      "2025-06-30 16:16:30,669 - docrouter_app.payments - INFO - Deleted Stripe customer: cus_SYKOOrzGpAzcjM\n",
      "2025-06-30 16:16:30,669 - docrouter_app.payments - INFO - Deleted Stripe customer: cus_SYKOooEkXQjkky\n",
      "2025-06-30 16:16:30,670 - docrouter_app.payments - INFO - Deleted Stripe customer: cus_SYKOwIPaNa3KFr\n",
      "2025-06-30 16:16:30,670 - docrouter_app.payments - INFO - Deleted Stripe customer: cus_SYKOQ35CeCwUlf\n",
      "2025-06-30 16:16:30,671 - docrouter_app.payments - INFO - Deleted Stripe customer: cus_SYKOHdjJJAncvO\n",
      "2025-06-30 16:16:30,671 - docrouter_app.payments - INFO - Deleted Stripe customer: cus_SYKOOvAimrPNpS\n",
      "2025-06-30 16:16:30,671 - docrouter_app.payments - INFO - Deleted Stripe customer: cus_SYKO37Ji41bDxl\n",
      "2025-06-30 16:16:30,672 - docrouter_app.payments - INFO - Deleted Stripe customer: cus_SYKOZ67io8JuU1\n",
      "2025-06-30 16:16:30,672 - docrouter_app.payments - INFO - Deleted Stripe customer: cus_SYKOxBhQqiWf98\n",
      "2025-06-30 16:16:30,672 - docrouter_app.payments - INFO - Deleted Stripe customer: cus_SYKOPD1b4tXsR2\n",
      "2025-06-30 16:16:30,673 - stripe - INFO - message='Request to Stripe api' method=delete url=https://api.stripe.com/v1/customers/cus_SYKOwIPaNa3KFr\n",
      "2025-06-30 16:16:30,673 - stripe - INFO - message='Request to Stripe api' method=delete url=https://api.stripe.com/v1/customers/cus_SYKOQ35CeCwUlf\n",
      "2025-06-30 16:16:30,673 - stripe - INFO - message='Request to Stripe api' method=delete url=https://api.stripe.com/v1/customers/cus_SYKOHdjJJAncvO\n",
      "2025-06-30 16:16:30,674 - stripe - INFO - message='Request to Stripe api' method=delete url=https://api.stripe.com/v1/customers/cus_SYKOooEkXQjkky\n",
      "2025-06-30 16:16:30,674 - stripe - INFO - message='Request to Stripe api' method=delete url=https://api.stripe.com/v1/customers/cus_SYKOOvAimrPNpS\n",
      "2025-06-30 16:16:30,674 - stripe - INFO - message='Request to Stripe api' method=delete url=https://api.stripe.com/v1/customers/cus_SYKO37Ji41bDxl\n",
      "2025-06-30 16:16:30,674 - stripe - INFO - message='Request to Stripe api' method=delete url=https://api.stripe.com/v1/customers/cus_SYKOZ67io8JuU1\n",
      "2025-06-30 16:16:30,674 - stripe - INFO - message='Request to Stripe api' method=delete url=https://api.stripe.com/v1/customers/cus_SYKOPD1b4tXsR2\n",
      "2025-06-30 16:16:30,674 - stripe - INFO - message='Request to Stripe api' method=delete url=https://api.stripe.com/v1/customers/cus_SYKOxBhQqiWf98\n",
      "2025-06-30 16:16:30,674 - stripe - INFO - message='Request to Stripe api' method=delete url=https://api.stripe.com/v1/customers/cus_SYKOOrzGpAzcjM\n",
      "2025-06-30 16:16:30,945 - stripe - INFO - message='Stripe API response' path=https://api.stripe.com/v1/customers/cus_SYKOPD1b4tXsR2 response_code=200\n",
      "2025-06-30 16:16:30,948 - stripe - INFO - message='Stripe API response' path=https://api.stripe.com/v1/customers/cus_SYKOxBhQqiWf98 response_code=200\n",
      "2025-06-30 16:16:30,951 - stripe - INFO - message='Stripe API response' path=https://api.stripe.com/v1/customers/cus_SYKOooEkXQjkky response_code=200\n",
      "2025-06-30 16:16:30,956 - stripe - INFO - message='Stripe API response' path=https://api.stripe.com/v1/customers/cus_SYKOOvAimrPNpS response_code=200\n",
      "2025-06-30 16:16:30,957 - stripe - INFO - message='Stripe API response' path=https://api.stripe.com/v1/customers/cus_SYKOwIPaNa3KFr response_code=200\n",
      "2025-06-30 16:16:30,961 - stripe - INFO - message='Stripe API response' path=https://api.stripe.com/v1/customers/cus_SYKOHdjJJAncvO response_code=200\n",
      "2025-06-30 16:16:30,963 - stripe - INFO - message='Stripe API response' path=https://api.stripe.com/v1/customers/cus_SYKOQ35CeCwUlf response_code=200\n",
      "2025-06-30 16:16:30,965 - stripe - INFO - message='Stripe API response' path=https://api.stripe.com/v1/customers/cus_SYKOZ67io8JuU1 response_code=200\n",
      "2025-06-30 16:16:30,972 - stripe - INFO - message='Stripe API response' path=https://api.stripe.com/v1/customers/cus_SYKO37Ji41bDxl response_code=200\n",
      "2025-06-30 16:16:30,974 - stripe - INFO - message='Stripe API response' path=https://api.stripe.com/v1/customers/cus_SYKOOrzGpAzcjM response_code=200\n",
      "2025-06-30 16:16:30,976 - stripe - INFO - message='Request to Stripe api' method=get url=https://api.stripe.com/v1/customers?limit=10&starting_after=cus_SYKOPD1b4tXsR2\n",
      "2025-06-30 16:16:31,350 - stripe - INFO - message='Stripe API response' path=https://api.stripe.com/v1/customers?limit=10&starting_after=cus_SYKOPD1b4tXsR2 response_code=200\n",
      "2025-06-30 16:16:31,353 - stripe - INFO - message='Request to Stripe api' method=get url=https://api.stripe.com/v1/subscriptions?customer=cus_SYKOS64ML2wdlJ\n",
      "2025-06-30 16:16:31,861 - stripe - INFO - message='Stripe API response' path=https://api.stripe.com/v1/subscriptions?customer=cus_SYKOS64ML2wdlJ response_code=200\n",
      "2025-06-30 16:16:31,864 - docrouter_app.payments - INFO - Deleting subscription sub_1RdDjGQ21OOWmU21IU7mQW2L for customer cus_SYKOS64ML2wdlJ\n",
      "2025-06-30 16:16:31,866 - stripe - INFO - message='Request to Stripe api' method=get url=https://api.stripe.com/v1/subscriptions?customer=cus_SYKObr5gXZ5u8U\n",
      "2025-06-30 16:16:32,066 - stripe - INFO - message='Stripe API response' path=https://api.stripe.com/v1/subscriptions?customer=cus_SYKObr5gXZ5u8U response_code=200\n",
      "2025-06-30 16:16:32,069 - docrouter_app.payments - INFO - Deleting subscription sub_1RdDjGQ21OOWmU21QrznWVKy for customer cus_SYKObr5gXZ5u8U\n",
      "2025-06-30 16:16:32,070 - stripe - INFO - message='Request to Stripe api' method=get url=https://api.stripe.com/v1/subscriptions?customer=cus_SYKOy94H9MRe4G\n",
      "2025-06-30 16:16:32,271 - stripe - INFO - message='Stripe API response' path=https://api.stripe.com/v1/subscriptions?customer=cus_SYKOy94H9MRe4G response_code=200\n",
      "2025-06-30 16:16:32,274 - docrouter_app.payments - INFO - Deleting subscription sub_1RdDjGQ21OOWmU21jVHkaV83 for customer cus_SYKOy94H9MRe4G\n",
      "2025-06-30 16:16:32,276 - stripe - INFO - message='Request to Stripe api' method=get url=https://api.stripe.com/v1/subscriptions?customer=cus_SYKOVHDsyh4sWA\n",
      "2025-06-30 16:16:32,475 - stripe - INFO - message='Stripe API response' path=https://api.stripe.com/v1/subscriptions?customer=cus_SYKOVHDsyh4sWA response_code=200\n",
      "2025-06-30 16:16:32,479 - docrouter_app.payments - INFO - Deleting subscription sub_1RdDjGQ21OOWmU21xs98sMFB for customer cus_SYKOVHDsyh4sWA\n",
      "2025-06-30 16:16:32,481 - stripe - INFO - message='Request to Stripe api' method=get url=https://api.stripe.com/v1/subscriptions?customer=cus_SYKO7qeerXslvq\n",
      "2025-06-30 16:16:32,783 - stripe - INFO - message='Stripe API response' path=https://api.stripe.com/v1/subscriptions?customer=cus_SYKO7qeerXslvq response_code=200\n",
      "2025-06-30 16:16:32,784 - docrouter_app.payments - INFO - Deleting subscription sub_1RdDjGQ21OOWmU21A5dar1u5 for customer cus_SYKO7qeerXslvq\n",
      "2025-06-30 16:16:32,785 - stripe - INFO - message='Request to Stripe api' method=get url=https://api.stripe.com/v1/subscriptions?customer=cus_SYKOGsvsiNvozS\n",
      "2025-06-30 16:16:33,020 - stripe - INFO - message='Stripe API response' path=https://api.stripe.com/v1/subscriptions?customer=cus_SYKOGsvsiNvozS response_code=200\n",
      "2025-06-30 16:16:33,023 - docrouter_app.payments - INFO - Deleting subscription sub_1RdDjGQ21OOWmU21NuJTYolO for customer cus_SYKOGsvsiNvozS\n",
      "2025-06-30 16:16:33,024 - stripe - INFO - message='Request to Stripe api' method=delete url=https://api.stripe.com/v1/subscriptions/sub_1RdDjGQ21OOWmU21jVHkaV83\n",
      "2025-06-30 16:16:33,025 - stripe - INFO - message='Request to Stripe api' method=delete url=https://api.stripe.com/v1/subscriptions/sub_1RdDjGQ21OOWmU21IU7mQW2L\n",
      "2025-06-30 16:16:33,025 - stripe - INFO - message='Request to Stripe api' method=delete url=https://api.stripe.com/v1/subscriptions/sub_1RdDjGQ21OOWmU21A5dar1u5\n",
      "2025-06-30 16:16:33,026 - stripe - INFO - message='Request to Stripe api' method=delete url=https://api.stripe.com/v1/subscriptions/sub_1RdDjGQ21OOWmU21QrznWVKy\n",
      "2025-06-30 16:16:33,026 - stripe - INFO - message='Request to Stripe api' method=delete url=https://api.stripe.com/v1/subscriptions/sub_1RdDjGQ21OOWmU21xs98sMFB\n",
      "2025-06-30 16:16:33,027 - stripe - INFO - message='Request to Stripe api' method=delete url=https://api.stripe.com/v1/subscriptions/sub_1RdDjGQ21OOWmU21NuJTYolO\n",
      "2025-06-30 16:16:33,500 - stripe - INFO - message='Stripe API response' path=https://api.stripe.com/v1/subscriptions/sub_1RdDjGQ21OOWmU21IU7mQW2L response_code=200\n",
      "2025-06-30 16:16:33,504 - stripe - INFO - message='Stripe API response' path=https://api.stripe.com/v1/subscriptions/sub_1RdDjGQ21OOWmU21A5dar1u5 response_code=200\n",
      "2025-06-30 16:16:33,505 - stripe - INFO - message='Stripe API response' path=https://api.stripe.com/v1/subscriptions/sub_1RdDjGQ21OOWmU21NuJTYolO response_code=200\n",
      "2025-06-30 16:16:33,507 - stripe - INFO - message='Stripe API response' path=https://api.stripe.com/v1/subscriptions/sub_1RdDjGQ21OOWmU21jVHkaV83 response_code=200\n",
      "2025-06-30 16:16:33,515 - stripe - INFO - message='Stripe API response' path=https://api.stripe.com/v1/subscriptions/sub_1RdDjGQ21OOWmU21QrznWVKy response_code=200\n",
      "2025-06-30 16:16:33,519 - stripe - INFO - message='Stripe API response' path=https://api.stripe.com/v1/subscriptions/sub_1RdDjGQ21OOWmU21xs98sMFB response_code=200\n",
      "2025-06-30 16:16:33,523 - docrouter_app.payments - INFO - Deleted Stripe customer: cus_SYKOS64ML2wdlJ\n",
      "2025-06-30 16:16:33,523 - docrouter_app.payments - INFO - Deleted Stripe customer: cus_SYKObr5gXZ5u8U\n",
      "2025-06-30 16:16:33,524 - docrouter_app.payments - INFO - Deleted Stripe customer: cus_SYKOy94H9MRe4G\n",
      "2025-06-30 16:16:33,524 - docrouter_app.payments - INFO - Deleted Stripe customer: cus_SYKOVHDsyh4sWA\n",
      "2025-06-30 16:16:33,524 - docrouter_app.payments - INFO - Deleted Stripe customer: cus_SYKO7qeerXslvq\n",
      "2025-06-30 16:16:33,525 - docrouter_app.payments - INFO - Deleted Stripe customer: cus_SYKOGsvsiNvozS\n",
      "2025-06-30 16:16:33,527 - stripe - INFO - message='Request to Stripe api' method=delete url=https://api.stripe.com/v1/customers/cus_SYKO7qeerXslvq\n",
      "2025-06-30 16:16:33,527 - stripe - INFO - message='Request to Stripe api' method=delete url=https://api.stripe.com/v1/customers/cus_SYKOGsvsiNvozS\n",
      "2025-06-30 16:16:33,528 - stripe - INFO - message='Request to Stripe api' method=delete url=https://api.stripe.com/v1/customers/cus_SYKOVHDsyh4sWA\n",
      "2025-06-30 16:16:33,528 - stripe - INFO - message='Request to Stripe api' method=delete url=https://api.stripe.com/v1/customers/cus_SYKOy94H9MRe4G\n",
      "2025-06-30 16:16:33,529 - stripe - INFO - message='Request to Stripe api' method=delete url=https://api.stripe.com/v1/customers/cus_SYKObr5gXZ5u8U\n",
      "2025-06-30 16:16:33,529 - stripe - INFO - message='Request to Stripe api' method=delete url=https://api.stripe.com/v1/customers/cus_SYKOS64ML2wdlJ\n",
      "2025-06-30 16:16:34,011 - stripe - INFO - message='Stripe API response' path=https://api.stripe.com/v1/customers/cus_SYKOGsvsiNvozS response_code=200\n",
      "2025-06-30 16:16:34,012 - stripe - INFO - message='Stripe API response' path=https://api.stripe.com/v1/customers/cus_SYKOVHDsyh4sWA response_code=200\n",
      "2025-06-30 16:16:34,013 - stripe - INFO - message='Stripe API response' path=https://api.stripe.com/v1/customers/cus_SYKOy94H9MRe4G response_code=200\n",
      "2025-06-30 16:16:34,014 - stripe - INFO - message='Stripe API response' path=https://api.stripe.com/v1/customers/cus_SYKO7qeerXslvq response_code=200\n",
      "2025-06-30 16:16:34,016 - stripe - INFO - message='Stripe API response' path=https://api.stripe.com/v1/customers/cus_SYKObr5gXZ5u8U response_code=200\n",
      "2025-06-30 16:16:34,017 - stripe - INFO - message='Stripe API response' path=https://api.stripe.com/v1/customers/cus_SYKOS64ML2wdlJ response_code=200\n",
      "2025-06-30 16:16:34,023 - docrouter_app.payments - INFO - Deleted all local Stripe customer records\n"
     ]
    },
    {
     "data": {
      "text/plain": [
       "{'success': True,\n",
       " 'deleted_count': 36,\n",
       " 'failed_count': 0,\n",
       " 'errors': [],\n",
       " 'warning': 'All Stripe customers have been permanently deleted.'}"
      ]
     },
     "execution_count": 5,
     "metadata": {},
     "output_type": "execute_result"
    }
   ],
   "source": [
    "await docrouter_app.payments.delete_all_payments_customers(dryrun=False)"
   ]
  },
  {
   "cell_type": "code",
   "execution_count": 6,
   "metadata": {},
   "outputs": [],
   "source": [
    "org_id = \"685c1fb8e8952690f233e049\""
   ]
  },
  {
   "cell_type": "code",
   "execution_count": null,
   "metadata": {},
   "outputs": [],
   "source": [
    "await docrouter_app.payments.sync_payments_customer(org_id=org_id)"
   ]
  },
  {
   "cell_type": "code",
   "execution_count": null,
   "metadata": {},
   "outputs": [],
   "source": [
    "stripe_customer = await docrouter_app.payments.get_payments_customer(org_id=org_id)"
   ]
  },
  {
   "cell_type": "code",
   "execution_count": null,
   "metadata": {},
   "outputs": [],
   "source": [
    "stripe_customer"
   ]
  },
  {
   "cell_type": "code",
   "execution_count": null,
   "metadata": {},
   "outputs": [],
   "source": [
    "stripe_customer.id"
   ]
  },
  {
   "cell_type": "code",
   "execution_count": null,
   "metadata": {},
   "outputs": [],
   "source": [
    "subscription = await docrouter_app.payments.get_subscription(stripe_customer.id)\n",
    "if subscription:\n",
    "    print(docrouter_app.payments.get_subscription_type(subscription))\n",
    "else:\n",
    "    print(\"No subscription found\")"
   ]
  },
  {
   "cell_type": "code",
   "execution_count": 20,
   "metadata": {},
   "outputs": [
    {
     "name": "stderr",
     "output_type": "stream",
     "text": [
      "2025-06-30 14:20:07,487 - docrouter_app.payments - INFO - Current period start: 2025-06-30T12:42:56\n",
      "2025-06-30 14:20:07,487 - docrouter_app.payments - INFO - Current period end: 2025-07-30T12:42:56\n",
      "2025-06-30 14:20:07,854 - docrouter_app.payments - INFO - Usage summary: {\n",
      "  \"data\": [\n",
      "    {\n",
      "      \"aggregated_value\": 45.0,\n",
      "      \"end_time\": 1753893776,\n",
      "      \"id\": \"mtrusg_test_1751301776000\",\n",
      "      \"livemode\": false,\n",
      "      \"meter\": \"mtr_test_61Sp9pf4Uc6fO2H5g41Q21OOWmU2169w\",\n",
      "      \"object\": \"billing.meter_event_summary\",\n",
      "      \"start_time\": 1751301776\n",
      "    }\n",
      "  ],\n",
      "  \"has_more\": false,\n",
      "  \"object\": \"list\",\n",
      "  \"url\": \"/v1/billing/meters/mtr_test_61Sp9pf4Uc6fO2H5g41Q21OOWmU2169w/event_summaries\"\n",
      "}\n"
     ]
    },
    {
     "data": {
      "text/plain": [
       "{'total_usage': 45.0,\n",
       " 'included_usage': 2000,\n",
       " 'overage_usage': 0,\n",
       " 'remaining_included': 1955.0,\n",
       " 'current_period_start': datetime.datetime(2025, 6, 30, 12, 42, 56),\n",
       " 'current_period_end': datetime.datetime(2025, 7, 30, 12, 42, 56),\n",
       " 'period_start': datetime.datetime(2025, 6, 30, 12, 42, 56),\n",
       " 'period_end': datetime.datetime(2025, 7, 30, 12, 42, 56),\n",
       " 'subscription_type': 'enterprise',\n",
       " 'usage_unit': 'spu'}"
      ]
     },
     "execution_count": 20,
     "metadata": {},
     "output_type": "execute_result"
    }
   ],
   "source": [
    "await docrouter_app.payments.get_stripe_usage(org_id=org_id)"
   ]
  },
  {
   "cell_type": "code",
   "execution_count": null,
   "metadata": {},
   "outputs": [],
   "source": [
    "await docrouter_app.payments.set_subscription_type(stripe_customer.id, \"individual\")"
   ]
  },
  {
   "cell_type": "code",
   "execution_count": null,
   "metadata": {},
   "outputs": [],
   "source": [
    "price_id = docrouter_app.payments.TIER_TO_PRICE[\"individual\"]\n",
    "price_id"
   ]
  },
  {
   "cell_type": "code",
   "execution_count": null,
   "metadata": {},
   "outputs": [],
   "source": [
    "# Use the new subroutine\n",
    "subscription_type = docrouter_app.payments.get_subscription_type(price_id)\n",
    "\n",
    "# Create the subscription\n",
    "subscription = await docrouter_app.payments.StripeAsync.subscription_create(\n",
    "    customer=stripe_customer.id,\n",
    "    items=[{\n",
    "        \"price\": price_id,\n",
    "    }],\n",
    "    payment_behavior=\"default_incomplete\",\n",
    "    expand=[\"latest_invoice.payment_intent\"],\n",
    ")\n",
    "\n",
    "# Find the subscription item ID for usage reporting later\n",
    "subscription_item_id = subscription[\"items\"][\"data\"][0][\"id\"]"
   ]
  },
  {
   "cell_type": "code",
   "execution_count": null,
   "metadata": {},
   "outputs": [],
   "source": [
    "subscription"
   ]
  },
  {
   "cell_type": "code",
   "execution_count": 17,
   "metadata": {},
   "outputs": [
    {
     "name": "stderr",
     "output_type": "stream",
     "text": [
      "2025-06-30 14:19:01,422 - docrouter_app.payments - INFO - record_usage called with org_id: 685c1fb8e8952690f233e049, spus: 35, operation: test, source: backend\n",
      "2025-06-30 14:19:01,764 - docrouter_app.payments - INFO - Stripe customer found for org_id: 685c1fb8e8952690f233e049: cus_SawcfsptWMvKKf\n",
      "2025-06-30 14:19:02,214 - docrouter_app.payments - INFO - Subscription item id found for org_id: 685c1fb8e8952690f233e049: si_SawgzZ0UQFvWWy\n",
      "2025-06-30 14:19:02,722 - docrouter_app.payments - INFO - Reported 35 SPUs to Stripe for org 685c1fb8e8952690f233e049\n"
     ]
    },
    {
     "name": "stderr",
     "output_type": "stream",
     "text": [
      "2025-06-30 14:19:01,423 - stripe - INFO - message='Request to Stripe api' method=get url=https://api.stripe.com/v1/customers/search?query=metadata[%27org_id%27]%3A%27685c1fb8e8952690f233e049%27\n",
      "2025-06-30 14:19:01,763 - stripe - INFO - message='Stripe API response' path=https://api.stripe.com/v1/customers/search?query=metadata[%27org_id%27]%3A%27685c1fb8e8952690f233e049%27 response_code=200\n",
      "2025-06-30 14:19:01,765 - stripe - INFO - message='Request to Stripe api' method=get url=https://api.stripe.com/v1/subscriptions?customer=cus_SawcfsptWMvKKf\n",
      "2025-06-30 14:19:02,210 - stripe - INFO - message='Stripe API response' path=https://api.stripe.com/v1/subscriptions?customer=cus_SawcfsptWMvKKf response_code=200\n",
      "2025-06-30 14:19:02,215 - stripe - INFO - message='Request to Stripe api' method=post url=https://api.stripe.com/v1/billing/meter_events\n",
      "2025-06-30 14:19:02,721 - stripe - INFO - message='Stripe API response' path=https://api.stripe.com/v1/billing/meter_events response_code=200\n",
      "2025-06-30 14:19:55,322 - stripe - INFO - message='Request to Stripe api' method=get url=https://api.stripe.com/v1/customers/search?query=metadata[%27org_id%27]%3A%27685c1fb8e8952690f233e049%27\n",
      "2025-06-30 14:19:55,559 - stripe - INFO - message='Stripe API response' path=https://api.stripe.com/v1/customers/search?query=metadata[%27org_id%27]%3A%27685c1fb8e8952690f233e049%27 response_code=200\n",
      "2025-06-30 14:19:55,562 - stripe - INFO - message='Request to Stripe api' method=get url=https://api.stripe.com/v1/subscriptions?customer=cus_SawcfsptWMvKKf\n",
      "2025-06-30 14:19:55,740 - stripe - INFO - message='Stripe API response' path=https://api.stripe.com/v1/subscriptions?customer=cus_SawcfsptWMvKKf response_code=200\n",
      "2025-06-30 14:19:55,746 - stripe - INFO - message='Request to Stripe api' method=get url=https://api.stripe.com/v1/billing/meters/mtr_test_61Sp9pf4Uc6fO2H5g41Q21OOWmU2169w/event_summaries?customer=cus_SawcfsptWMvKKf&start_time=1751301776&end_time=1753893776\n",
      "2025-06-30 14:19:55,924 - stripe - INFO - message='Stripe API response' path=https://api.stripe.com/v1/billing/meters/mtr_test_61Sp9pf4Uc6fO2H5g41Q21OOWmU2169w/event_summaries?customer=cus_SawcfsptWMvKKf&start_time=1751301776&end_time=1753893776 response_code=200\n",
      "2025-06-30 14:20:04,371 - stripe - INFO - message='Request to Stripe api' method=get url=https://api.stripe.com/v1/customers/search?query=metadata[%27org_id%27]%3A%27685c1fb8e8952690f233e049%27\n",
      "2025-06-30 14:20:04,571 - stripe - INFO - message='Stripe API response' path=https://api.stripe.com/v1/customers/search?query=metadata[%27org_id%27]%3A%27685c1fb8e8952690f233e049%27 response_code=200\n",
      "2025-06-30 14:20:04,573 - stripe - INFO - message='Request to Stripe api' method=get url=https://api.stripe.com/v1/subscriptions?customer=cus_SawcfsptWMvKKf\n",
      "2025-06-30 14:20:04,832 - stripe - INFO - message='Stripe API response' path=https://api.stripe.com/v1/subscriptions?customer=cus_SawcfsptWMvKKf response_code=200\n",
      "2025-06-30 14:20:04,837 - stripe - INFO - message='Request to Stripe api' method=get url=https://api.stripe.com/v1/billing/meters/mtr_test_61Sp9pf4Uc6fO2H5g41Q21OOWmU2169w/event_summaries?customer=cus_SawcfsptWMvKKf&start_time=1751301776&end_time=1753893776\n",
      "2025-06-30 14:20:05,034 - stripe - INFO - message='Stripe API response' path=https://api.stripe.com/v1/billing/meters/mtr_test_61Sp9pf4Uc6fO2H5g41Q21OOWmU2169w/event_summaries?customer=cus_SawcfsptWMvKKf&start_time=1751301776&end_time=1753893776 response_code=200\n",
      "2025-06-30 14:20:06,961 - stripe - INFO - message='Request to Stripe api' method=get url=https://api.stripe.com/v1/customers/search?query=metadata[%27org_id%27]%3A%27685c1fb8e8952690f233e049%27\n",
      "2025-06-30 14:20:07,301 - stripe - INFO - message='Stripe API response' path=https://api.stripe.com/v1/customers/search?query=metadata[%27org_id%27]%3A%27685c1fb8e8952690f233e049%27 response_code=200\n",
      "2025-06-30 14:20:07,302 - stripe - INFO - message='Request to Stripe api' method=get url=https://api.stripe.com/v1/subscriptions?customer=cus_SawcfsptWMvKKf\n",
      "2025-06-30 14:20:07,485 - stripe - INFO - message='Stripe API response' path=https://api.stripe.com/v1/subscriptions?customer=cus_SawcfsptWMvKKf response_code=200\n",
      "2025-06-30 14:20:07,488 - stripe - INFO - message='Request to Stripe api' method=get url=https://api.stripe.com/v1/billing/meters/mtr_test_61Sp9pf4Uc6fO2H5g41Q21OOWmU2169w/event_summaries?customer=cus_SawcfsptWMvKKf&start_time=1751301776&end_time=1753893776\n",
      "2025-06-30 14:20:07,852 - stripe - INFO - message='Stripe API response' path=https://api.stripe.com/v1/billing/meters/mtr_test_61Sp9pf4Uc6fO2H5g41Q21OOWmU2169w/event_summaries?customer=cus_SawcfsptWMvKKf&start_time=1751301776&end_time=1753893776 response_code=200\n"
     ]
    },
    {
     "data": {
      "text/plain": [
       "{'org_id': '685c1fb8e8952690f233e049',\n",
       " 'stripe_customer_id': 'cus_SawcfsptWMvKKf',\n",
       " 'spus': 35,\n",
       " 'operation': 'test',\n",
       " 'source': 'backend',\n",
       " 'timestamp': datetime.datetime(2025, 6, 30, 18, 19, 2, 723727),\n",
       " 'reported_to_stripe': True}"
      ]
     },
     "execution_count": 17,
     "metadata": {},
     "output_type": "execute_result"
    }
   ],
   "source": [
    "await docrouter_app.payments.record_usage(org_id=org_id, spus=35, operation=\"test\")\n",
    "\n",
    "\n",
    "\n",
    "\n"
   ]
  },
  {
   "cell_type": "code",
   "execution_count": null,
   "metadata": {},
   "outputs": [],
   "source": [
    "await docrouter_app.payments.set_subscription_type(stripe_customer.id, \"individual\")"
   ]
  },
  {
   "cell_type": "code",
   "execution_count": 38,
   "metadata": {},
   "outputs": [],
   "source": [
    "org_id = \"6859696f6ebcee0b712b9ac6\""
   ]
  },
  {
   "cell_type": "code",
   "execution_count": null,
   "metadata": {},
   "outputs": [],
   "source": [
    "await docrouter_app.payments.sync_payments_customer(org_id=org_id)"
   ]
  },
  {
   "cell_type": "code",
   "execution_count": null,
   "metadata": {},
   "outputs": [],
   "source": [
    "await docrouter_app.payments.delete_payments_customer(org_id=org_id, force=False)"
   ]
  }
 ],
 "metadata": {
  "kernelspec": {
   "display_name": ".venv",
   "language": "python",
   "name": "python3"
  },
  "language_info": {
   "codemirror_mode": {
    "name": "ipython",
    "version": 3
   },
   "file_extension": ".py",
   "mimetype": "text/x-python",
   "name": "python",
   "nbconvert_exporter": "python",
   "pygments_lexer": "ipython3",
   "version": "3.13.3"
  }
 },
 "nbformat": 4,
 "nbformat_minor": 2
}
