{
 "cells": [
  {
   "cell_type": "code",
   "execution_count": 1,
   "metadata": {},
   "outputs": [],
   "source": [
    "%load_ext autoreload\n",
    "%autoreload 2"
   ]
  },
  {
   "cell_type": "code",
   "execution_count": 2,
   "metadata": {},
   "outputs": [],
   "source": [
    "import sys\n",
    "sys.path.append(\"../../..\")"
   ]
  },
  {
   "cell_type": "code",
   "execution_count": 3,
   "metadata": {},
   "outputs": [],
   "source": [
    "import os\n",
    "from datetime import datetime, UTC\n",
    "import analytiq_data as ad\n",
    "import asyncio\n",
    "from bson import ObjectId\n",
    "from dotenv import load_dotenv\n",
    "import docrouter_app.payments"
   ]
  },
  {
   "cell_type": "code",
   "execution_count": 4,
   "metadata": {},
   "outputs": [],
   "source": [
    "ad.common.setup()\n",
    "await docrouter_app.payments.init_payments_env()"
   ]
  },
  {
   "cell_type": "code",
   "execution_count": 5,
   "metadata": {},
   "outputs": [],
   "source": [
    "#await docrouter_app.payments.delete_all_payments_customers(dryrun=False)"
   ]
  },
  {
   "cell_type": "code",
   "execution_count": 5,
   "metadata": {},
   "outputs": [],
   "source": [
    "org_id = \"6795345439604beca2b2808d\""
   ]
  },
  {
   "cell_type": "code",
   "execution_count": 6,
   "metadata": {},
   "outputs": [
    {
     "name": "stderr",
     "output_type": "stream",
     "text": [
      "2025-07-04 09:41:42,630 - docrouter_app.payments - INFO - Sync stripe customer for org_id: 6795345439604beca2b2808d user_id: 679533ee39604beca2b2803a email: iubica2@yahoo.com name: System Administrator org_name: test\n",
      "2025-07-04 09:41:42,639 - stripe - INFO - message='Request to Stripe api' method=get url=https://api.stripe.com/v1/customers/search?query=metadata[%27org_id%27]%3A%276795345439604beca2b2808d%27\n",
      "2025-07-04 09:41:42,904 - stripe - INFO - message='Stripe API response' path=https://api.stripe.com/v1/customers/search?query=metadata[%27org_id%27]%3A%276795345439604beca2b2808d%27 response_code=200\n",
      "2025-07-04 09:41:42,905 - stripe - INFO - message='Request to Stripe api' method=get url=https://api.stripe.com/v1/prices?active=True&expand[0]=data.product\n",
      "2025-07-04 09:41:43,307 - stripe - INFO - message='Stripe API response' path=https://api.stripe.com/v1/prices?active=True&expand[0]=data.product response_code=200\n",
      "2025-07-04 09:41:43,310 - docrouter_app.payments - INFO - Dynamic tier config loaded: {'enterprise': {'base_price_id': 'price_1RgGzLQ21OOWmU21Ljdg3a9W', 'metered_price_id': 'price_1Rg5QQQ21OOWmU21VELqvjAK', 'base_price': 200.0, 'metered_price': 0.05}, 'team': {'base_price_id': 'price_1RgGyBQ21OOWmU21EeNhXc9k', 'metered_price_id': 'price_1Rg5QQQ21OOWmU213IwgbtlT', 'base_price': 50.0, 'metered_price': 0.02}, 'individual': {'base_price_id': 'price_1RgGxxQ21OOWmU21f6dw1Ech', 'metered_price_id': 'price_1Rg5QQQ21OOWmU21Be6CqB7x', 'base_price': 10.0, 'metered_price': 0.01}}\n",
      "2025-07-04 09:41:43,311 - stripe - INFO - message='Request to Stripe api' method=get url=https://api.stripe.com/v1/subscriptions?customer=cus_SbGxOTbDNTq6wa\n",
      "2025-07-04 09:41:43,554 - stripe - INFO - message='Stripe API response' path=https://api.stripe.com/v1/subscriptions?customer=cus_SbGxOTbDNTq6wa response_code=200\n",
      "2025-07-04 09:41:43,559 - docrouter_app.payments - INFO - Updated customer for user_id: 679533ee39604beca2b2803a\n",
      "2025-07-04 09:41:43,560 - stripe - INFO - message='Request to Stripe api' method=get url=https://api.stripe.com/v1/customers/search?query=metadata[%27org_id%27]%3A%276795345439604beca2b2808d%27\n",
      "2025-07-04 09:41:43,766 - stripe - INFO - message='Stripe API response' path=https://api.stripe.com/v1/customers/search?query=metadata[%27org_id%27]%3A%276795345439604beca2b2808d%27 response_code=200\n",
      "2025-07-04 09:41:43,768 - stripe - INFO - message='Request to Stripe api' method=get url=https://api.stripe.com/v1/prices?active=True&expand[0]=data.product\n",
      "2025-07-04 09:41:44,024 - stripe - INFO - message='Stripe API response' path=https://api.stripe.com/v1/prices?active=True&expand[0]=data.product response_code=200\n",
      "2025-07-04 09:41:44,029 - docrouter_app.payments - INFO - Dynamic tier config loaded: {'enterprise': {'base_price_id': 'price_1RgGzLQ21OOWmU21Ljdg3a9W', 'metered_price_id': 'price_1Rg5QQQ21OOWmU21VELqvjAK', 'base_price': 200.0, 'metered_price': 0.05}, 'team': {'base_price_id': 'price_1RgGyBQ21OOWmU21EeNhXc9k', 'metered_price_id': 'price_1Rg5QQQ21OOWmU213IwgbtlT', 'base_price': 50.0, 'metered_price': 0.02}, 'individual': {'base_price_id': 'price_1RgGxxQ21OOWmU21f6dw1Ech', 'metered_price_id': 'price_1Rg5QQQ21OOWmU21Be6CqB7x', 'base_price': 10.0, 'metered_price': 0.01}}\n",
      "2025-07-04 09:41:44,030 - stripe - INFO - message='Request to Stripe api' method=get url=https://api.stripe.com/v1/subscriptions?customer=cus_SbGxOTbDNTq6wa\n",
      "2025-07-04 09:41:44,230 - stripe - INFO - message='Stripe API response' path=https://api.stripe.com/v1/subscriptions?customer=cus_SbGxOTbDNTq6wa response_code=200\n",
      "2025-07-04 09:41:44,233 - docrouter_app.payments - INFO - Synced org 6795345439604beca2b2808d type team to subscription team\n"
     ]
    },
    {
     "data": {
      "text/plain": [
       "{'_id': ObjectId('6867d4da0447e3044e44aa17'),\n",
       " 'org_id': '679c9a914cfaaaa3640811ed',\n",
       " 'user_id': '679533ee39604beca2b2803a',\n",
       " 'stripe_customer_id': 'cus_SbGx22QE979U2r',\n",
       " 'user_name': 'System Administrator',\n",
       " 'user_email': 'iubica2@yahoo.com',\n",
       " 'has_payment_method': False,\n",
       " 'created_at': datetime.datetime(2025, 7, 4, 13, 19, 22, 813000),\n",
       " 'updated_at': datetime.datetime(2025, 7, 4, 13, 34, 29, 973000),\n",
       " 'spu_credits': 500,\n",
       " 'spu_credits_used': 0,\n",
       " 'name': 'System Administrator'}"
      ]
     },
     "execution_count": 6,
     "metadata": {},
     "output_type": "execute_result"
    }
   ],
   "source": [
    "await docrouter_app.payments.sync_payments_customer(org_id=org_id)"
   ]
  },
  {
   "cell_type": "code",
   "execution_count": null,
   "metadata": {},
   "outputs": [],
   "source": [
    "stripe_customer = await docrouter_app.payments.get_payments_customer(org_id=org_id)\n",
    "stripe_customer"
   ]
  },
  {
   "cell_type": "code",
   "execution_count": null,
   "metadata": {},
   "outputs": [],
   "source": [
    "stripe_customer.id"
   ]
  },
  {
   "cell_type": "code",
   "execution_count": null,
   "metadata": {},
   "outputs": [],
   "source": [
    "subscription = await docrouter_app.payments.get_subscription(stripe_customer.id)\n",
    "subscription"
   ]
  },
  {
   "cell_type": "code",
   "execution_count": 7,
   "metadata": {},
   "outputs": [
    {
     "name": "stderr",
     "output_type": "stream",
     "text": [
      "2025-07-04 09:41:47,889 - stripe - INFO - message='Request to Stripe api' method=get url=https://api.stripe.com/v1/customers/search?query=metadata[%27org_id%27]%3A%276795345439604beca2b2808d%27\n",
      "2025-07-04 09:41:48,069 - stripe - INFO - message='Stripe API response' path=https://api.stripe.com/v1/customers/search?query=metadata[%27org_id%27]%3A%276795345439604beca2b2808d%27 response_code=200\n",
      "2025-07-04 09:41:48,072 - stripe - INFO - message='Request to Stripe api' method=get url=https://api.stripe.com/v1/subscriptions?customer=cus_SbGxOTbDNTq6wa\n",
      "2025-07-04 09:41:48,258 - stripe - INFO - message='Stripe API response' path=https://api.stripe.com/v1/subscriptions?customer=cus_SbGxOTbDNTq6wa response_code=200\n"
     ]
    },
    {
     "name": "stderr",
     "output_type": "stream",
     "text": [
      "2025-07-04 09:41:48,260 - docrouter_app.payments - INFO - Current period start: 2025-07-01T10:51:10\n",
      "2025-07-04 09:41:48,260 - docrouter_app.payments - INFO - Current period end: 2025-08-01T10:51:10\n"
     ]
    },
    {
     "data": {
      "text/plain": [
       "{'total_usage': 400,\n",
       " 'metered_usage': 400,\n",
       " 'period_start': 1751381470,\n",
       " 'period_end': 1754059870,\n",
       " 'subscription_type': 'team',\n",
       " 'usage_unit': 'spu'}"
      ]
     },
     "execution_count": 7,
     "metadata": {},
     "output_type": "execute_result"
    }
   ],
   "source": [
    "await docrouter_app.payments.get_stripe_usage(org_id=org_id)"
   ]
  },
  {
   "cell_type": "code",
   "execution_count": null,
   "metadata": {},
   "outputs": [],
   "source": [
    "await docrouter_app.payments.process_all_billing()"
   ]
  },
  {
   "cell_type": "code",
   "execution_count": null,
   "metadata": {},
   "outputs": [],
   "source": [
    "await docrouter_app.payments.process_org_billing(org_id=org_id)"
   ]
  },
  {
   "cell_type": "code",
   "execution_count": null,
   "metadata": {},
   "outputs": [],
   "source": [
    "await docrouter_app.payments.set_subscription_type(stripe_customer.id, \"individual\")"
   ]
  },
  {
   "cell_type": "code",
   "execution_count": null,
   "metadata": {},
   "outputs": [
    {
     "name": "stderr",
     "output_type": "stream",
     "text": [
      "2025-07-04 09:41:53,482 - docrouter_app.payments - INFO - handle_usage_record() called with org_id: 6795345439604beca2b2808d, spus: 100, operation: test, source: backend\n"
     ]
    },
    {
     "data": {
      "text/plain": [
       "{'org_id': '6795345439604beca2b2808d',\n",
       " 'spus': 100,\n",
       " 'operation': 'test',\n",
       " 'source': 'backend',\n",
       " 'timestamp': datetime.datetime(2025, 7, 4, 13, 41, 53, 483312),\n",
       " 'reported_to_stripe': False,\n",
       " '_id': ObjectId('6867da211e41d7206bae378c')}"
      ]
     },
     "execution_count": 8,
     "metadata": {},
     "output_type": "execute_result"
    }
   ],
   "source": [
    "await docrouter_app.payments.save_usage_record(org_id=org_id, spus=100, operation=\"test\")"
   ]
  },
  {
   "cell_type": "code",
   "execution_count": null,
   "metadata": {},
   "outputs": [],
   "source": [
    "await docrouter_app.payments.set_subscription_type(stripe_customer.id, \"individual\")"
   ]
  },
  {
   "cell_type": "code",
   "execution_count": 38,
   "metadata": {},
   "outputs": [],
   "source": [
    "org_id = \"6859696f6ebcee0b712b9ac6\""
   ]
  },
  {
   "cell_type": "code",
   "execution_count": null,
   "metadata": {},
   "outputs": [],
   "source": [
    "await docrouter_app.payments.sync_payments_customer(org_id=org_id)"
   ]
  },
  {
   "cell_type": "code",
   "execution_count": null,
   "metadata": {},
   "outputs": [],
   "source": [
    "await docrouter_app.payments.delete_payments_customer(org_id=org_id, force=False)"
   ]
  },
  {
   "cell_type": "code",
   "execution_count": null,
   "metadata": {},
   "outputs": [],
   "source": [
    "await docrouter_app.payments.get_tier_config()"
   ]
  }
 ],
 "metadata": {
  "kernelspec": {
   "display_name": ".venv",
   "language": "python",
   "name": "python3"
  },
  "language_info": {
   "codemirror_mode": {
    "name": "ipython",
    "version": 3
   },
   "file_extension": ".py",
   "mimetype": "text/x-python",
   "name": "python",
   "nbconvert_exporter": "python",
   "pygments_lexer": "ipython3",
   "version": "3.13.3"
  }
 },
 "nbformat": 4,
 "nbformat_minor": 2
}
