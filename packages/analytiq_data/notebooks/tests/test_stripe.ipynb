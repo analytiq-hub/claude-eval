{
 "cells": [
  {
   "cell_type": "code",
   "execution_count": 1,
   "metadata": {},
   "outputs": [],
   "source": [
    "%load_ext autoreload\n",
    "%autoreload 2"
   ]
  },
  {
   "cell_type": "code",
   "execution_count": 2,
   "metadata": {},
   "outputs": [],
   "source": [
    "import sys\n",
    "sys.path.append(\"../../..\")"
   ]
  },
  {
   "cell_type": "code",
   "execution_count": 3,
   "metadata": {},
   "outputs": [],
   "source": [
    "import os\n",
    "from datetime import datetime, UTC\n",
    "import analytiq_data as ad\n",
    "import asyncio\n",
    "from bson import ObjectId\n",
    "from dotenv import load_dotenv\n",
    "import docrouter_app.payments"
   ]
  },
  {
   "cell_type": "code",
   "execution_count": 4,
   "metadata": {},
   "outputs": [],
   "source": [
    "ad.common.setup()\n",
    "await docrouter_app.payments.init_payments_env()"
   ]
  },
  {
   "cell_type": "code",
   "execution_count": 5,
   "metadata": {},
   "outputs": [],
   "source": [
    "#await docrouter_app.payments.delete_all_payments_customers(dryrun=False)"
   ]
  },
  {
   "cell_type": "code",
   "execution_count": 6,
   "metadata": {},
   "outputs": [],
   "source": [
    "org_id = \"685c1fb8e8952690f233e049\""
   ]
  },
  {
   "cell_type": "code",
   "execution_count": 7,
   "metadata": {},
   "outputs": [
    {
     "name": "stderr",
     "output_type": "stream",
     "text": [
      "2025-06-30 12:39:09,898 - docrouter_app.payments - INFO - Sync stripe customer for org_id: 685c1fb8e8952690f233e049 user_id: 685c1fb8e8952690f233e048 email: andrei@analytiqhub.com name: andrei@analytiqhub.com org_name: andrei@analytiqhub.com\n",
      "2025-06-30 12:39:09,903 - stripe - INFO - message='Request to Stripe api' method=get url=https://api.stripe.com/v1/customers/search?query=metadata[%27org_id%27]%3A%27685c1fb8e8952690f233e049%27\n",
      "2025-06-30 12:39:10,148 - stripe - INFO - message='Stripe API response' path=https://api.stripe.com/v1/customers/search?query=metadata[%27org_id%27]%3A%27685c1fb8e8952690f233e049%27 response_code=200\n",
      "2025-06-30 12:39:10,151 - docrouter_app.payments - INFO - No Stripe customers found for org_id: 685c1fb8e8952690f233e049\n",
      "2025-06-30 12:39:10,152 - stripe - INFO - message='Request to Stripe api' method=post url=https://api.stripe.com/v1/customers\n",
      "2025-06-30 12:39:10,661 - stripe - INFO - message='Stripe API response' path=https://api.stripe.com/v1/customers response_code=200\n",
      "2025-06-30 12:39:10,663 - docrouter_app.payments - INFO - Created new Stripe customer cus_SawcfsptWMvKKf email andrei@analytiqhub.com user_name andrei@analytiqhub.com metadata {'org_id': '685c1fb8e8952690f233e049', 'org_name': 'andrei@analytiqhub.com', 'user_id': '685c1fb8e8952690f233e048', 'updated_at': '2025-06-30T16:39:09.898226'}\n",
      "2025-06-30 12:39:10,664 - stripe - INFO - message='Request to Stripe api' method=get url=https://api.stripe.com/v1/subscriptions?customer=cus_SawcfsptWMvKKf\n",
      "2025-06-30 12:39:10,823 - stripe - INFO - message='Stripe API response' path=https://api.stripe.com/v1/subscriptions?customer=cus_SawcfsptWMvKKf response_code=200\n",
      "2025-06-30 12:39:10,825 - stripe - INFO - message='Request to Stripe api' method=post url=https://api.stripe.com/v1/subscriptions\n",
      "2025-06-30 12:39:12,198 - stripe - INFO - message='Stripe API response' path=https://api.stripe.com/v1/subscriptions response_code=200\n",
      "2025-06-30 12:39:12,199 - docrouter_app.payments - INFO - Stripe customer_id changed from cus_SZ43yAjlFflX5c to cus_SawcfsptWMvKKf\n",
      "2025-06-30 12:39:12,201 - docrouter_app.payments - INFO - Customer 685c1fb8e8952690f233e048 not found in MongoDB, creating\n"
     ]
    },
    {
     "data": {
      "text/plain": [
       "{'org_id': '685c1fb8e8952690f233e049',\n",
       " 'user_id': '685c1fb8e8952690f233e048',\n",
       " 'stripe_customer_id': 'cus_SawcfsptWMvKKf',\n",
       " 'user_name': 'andrei@analytiqhub.com',\n",
       " 'user_email': 'andrei@analytiqhub.com',\n",
       " 'has_payment_method': False,\n",
       " 'created_at': datetime.datetime(2025, 6, 30, 16, 39, 12, 201949),\n",
       " 'updated_at': datetime.datetime(2025, 6, 30, 16, 39, 12, 201957),\n",
       " '_id': ObjectId('6862bdb09aa7101582f60496')}"
      ]
     },
     "execution_count": 7,
     "metadata": {},
     "output_type": "execute_result"
    }
   ],
   "source": [
    "await docrouter_app.payments.sync_payments_customer(org_id=org_id)"
   ]
  },
  {
   "cell_type": "code",
   "execution_count": null,
   "metadata": {},
   "outputs": [],
   "source": [
    "stripe_customer = await docrouter_app.payments.get_payments_customer(org_id=org_id)"
   ]
  },
  {
   "cell_type": "code",
   "execution_count": null,
   "metadata": {},
   "outputs": [],
   "source": [
    "stripe_customer"
   ]
  },
  {
   "cell_type": "code",
   "execution_count": null,
   "metadata": {},
   "outputs": [],
   "source": [
    "stripe_customer.id"
   ]
  },
  {
   "cell_type": "code",
   "execution_count": null,
   "metadata": {},
   "outputs": [],
   "source": [
    "subscription = await docrouter_app.payments.get_subscription(stripe_customer.id)\n",
    "if subscription:\n",
    "    print(docrouter_app.payments.get_subscription_type(subscription))\n",
    "else:\n",
    "    print(\"No subscription found\")"
   ]
  },
  {
   "cell_type": "code",
   "execution_count": 8,
   "metadata": {},
   "outputs": [
    {
     "name": "stderr",
     "output_type": "stream",
     "text": [
      "2025-06-30 12:40:56,066 - stripe - INFO - message='Request to Stripe api' method=get url=https://api.stripe.com/v1/customers/search?query=metadata[%27org_id%27]%3A%27685c1fb8e8952690f233e049%27\n",
      "2025-06-30 12:40:56,308 - stripe - INFO - message='Stripe API response' path=https://api.stripe.com/v1/customers/search?query=metadata[%27org_id%27]%3A%27685c1fb8e8952690f233e049%27 response_code=200\n",
      "2025-06-30 12:40:56,311 - stripe - INFO - message='Request to Stripe api' method=get url=https://api.stripe.com/v1/subscriptions?customer=cus_SawcfsptWMvKKf\n",
      "2025-06-30 12:40:56,481 - stripe - INFO - message='Stripe API response' path=https://api.stripe.com/v1/subscriptions?customer=cus_SawcfsptWMvKKf response_code=200\n",
      "2025-06-30 12:40:56,483 - stripe - INFO - message='Request to Stripe api' method=get url=https://api.stripe.com/v1/billing/meters/mtr_test_61SCqwDks28Lo6CVN41Q21OOWmU21HJQ/event_summaries?customer=cus_SawcfsptWMvKKf&start_time=1751301550&end_time=1753893550\n",
      "2025-06-30 12:40:56,664 - stripe - INFO - message='Stripe API response' path=https://api.stripe.com/v1/billing/meters/mtr_test_61SCqwDks28Lo6CVN41Q21OOWmU21HJQ/event_summaries?customer=cus_SawcfsptWMvKKf&start_time=1751301550&end_time=1753893550 response_code=200\n"
     ]
    },
    {
     "name": "stderr",
     "output_type": "stream",
     "text": [
      "2025-06-30 12:40:56,482 - docrouter_app.payments - INFO - Current period start: 1751301550\n",
      "2025-06-30 12:40:56,483 - docrouter_app.payments - INFO - Current period end: 1753893550\n",
      "2025-06-30 12:40:56,666 - docrouter_app.payments - INFO - Usage summary: {\n",
      "  \"data\": [],\n",
      "  \"has_more\": false,\n",
      "  \"object\": \"list\",\n",
      "  \"url\": \"/v1/billing/meters/mtr_test_61SCqwDks28Lo6CVN41Q21OOWmU21HJQ/event_summaries\"\n",
      "}\n"
     ]
    },
    {
     "data": {
      "text/plain": [
       "{'total_usage': 0,\n",
       " 'included_usage': 500,\n",
       " 'overage_usage': 0,\n",
       " 'remaining_included': 500,\n",
       " 'current_period_start': 1751301550,\n",
       " 'current_period_end': 1753893550,\n",
       " 'period_start': 1751301550,\n",
       " 'period_end': 1753893550,\n",
       " 'subscription_type': 'team',\n",
       " 'usage_unit': 'spu'}"
      ]
     },
     "execution_count": 8,
     "metadata": {},
     "output_type": "execute_result"
    }
   ],
   "source": [
    "await docrouter_app.payments.get_stripe_usage(org_id=org_id)"
   ]
  },
  {
   "cell_type": "code",
   "execution_count": null,
   "metadata": {},
   "outputs": [
    {
     "name": "stderr",
     "output_type": "stream",
     "text": [
      "2025-06-30 12:40:56,066 - stripe - INFO - message='Request to Stripe api' method=get url=https://api.stripe.com/v1/customers/search?query=metadata[%27org_id%27]%3A%27685c1fb8e8952690f233e049%27\n",
      "2025-06-30 12:40:56,308 - stripe - INFO - message='Stripe API response' path=https://api.stripe.com/v1/customers/search?query=metadata[%27org_id%27]%3A%27685c1fb8e8952690f233e049%27 response_code=200\n",
      "2025-06-30 12:40:56,311 - stripe - INFO - message='Request to Stripe api' method=get url=https://api.stripe.com/v1/subscriptions?customer=cus_SawcfsptWMvKKf\n",
      "2025-06-30 12:40:56,481 - stripe - INFO - message='Stripe API response' path=https://api.stripe.com/v1/subscriptions?customer=cus_SawcfsptWMvKKf response_code=200\n",
      "2025-06-30 12:40:56,483 - stripe - INFO - message='Request to Stripe api' method=get url=https://api.stripe.com/v1/billing/meters/mtr_test_61SCqwDks28Lo6CVN41Q21OOWmU21HJQ/event_summaries?customer=cus_SawcfsptWMvKKf&start_time=1751301550&end_time=1753893550\n",
      "2025-06-30 12:40:56,664 - stripe - INFO - message='Stripe API response' path=https://api.stripe.com/v1/billing/meters/mtr_test_61SCqwDks28Lo6CVN41Q21OOWmU21HJQ/event_summaries?customer=cus_SawcfsptWMvKKf&start_time=1751301550&end_time=1753893550 response_code=200\n"
     ]
    },
    {
     "name": "stderr",
     "output_type": "stream",
     "text": [
      "2025-06-30 12:40:56,482 - docrouter_app.payments - INFO - Current period start: 1751301550\n",
      "2025-06-30 12:40:56,483 - docrouter_app.payments - INFO - Current period end: 1753893550\n",
      "2025-06-30 12:40:56,666 - docrouter_app.payments - INFO - Usage summary: {\n",
      "  \"data\": [],\n",
      "  \"has_more\": false,\n",
      "  \"object\": \"list\",\n",
      "  \"url\": \"/v1/billing/meters/mtr_test_61SCqwDks28Lo6CVN41Q21OOWmU21HJQ/event_summaries\"\n",
      "}\n"
     ]
    },
    {
     "data": {
      "text/plain": [
       "{'total_usage': 0,\n",
       " 'included_usage': 500,\n",
       " 'overage_usage': 0,\n",
       " 'remaining_included': 500,\n",
       " 'current_period_start': 1751301550,\n",
       " 'current_period_end': 1753893550,\n",
       " 'period_start': 1751301550,\n",
       " 'period_end': 1753893550,\n",
       " 'subscription_type': 'team',\n",
       " 'usage_unit': 'spu'}"
      ]
     },
     "metadata": {},
     "output_type": "display_data"
    }
   ],
   "source": [
    "await docrouter_app.payments.get_stripe_usage(org_id=org_id)"
   ]
  },
  {
   "cell_type": "code",
   "execution_count": null,
   "metadata": {},
   "outputs": [],
   "source": [
    "await docrouter_app.payments.set_subscription_type(stripe_customer.id, \"individual\")"
   ]
  },
  {
   "cell_type": "code",
   "execution_count": null,
   "metadata": {},
   "outputs": [],
   "source": [
    "price_id = docrouter_app.payments.TIER_TO_PRICE[\"individual\"]\n",
    "price_id"
   ]
  },
  {
   "cell_type": "code",
   "execution_count": 16,
   "metadata": {},
   "outputs": [],
   "source": [
    "# Use the new subroutine\n",
    "subscription_type = docrouter_app.payments.get_subscription_type(price_id)\n",
    "\n",
    "# Create the subscription\n",
    "subscription = await docrouter_app.payments.StripeAsync.subscription_create(\n",
    "    customer=stripe_customer.id,\n",
    "    items=[{\n",
    "        \"price\": price_id,\n",
    "    }],\n",
    "    payment_behavior=\"default_incomplete\",\n",
    "    expand=[\"latest_invoice.payment_intent\"],\n",
    ")\n",
    "\n",
    "# Find the subscription item ID for usage reporting later\n",
    "subscription_item_id = subscription[\"items\"][\"data\"][0][\"id\"]"
   ]
  },
  {
   "cell_type": "code",
   "execution_count": null,
   "metadata": {},
   "outputs": [],
   "source": [
    "subscription"
   ]
  },
  {
   "cell_type": "code",
   "execution_count": null,
   "metadata": {},
   "outputs": [],
   "source": [
    "await docrouter_app.payments.record_usage(org_id=org_id, pages_processed=10, operation=\"test\")\n",
    "\n",
    "\n"
   ]
  },
  {
   "cell_type": "code",
   "execution_count": 38,
   "metadata": {},
   "outputs": [],
   "source": [
    "org_id = \"6859696f6ebcee0b712b9ac6\""
   ]
  },
  {
   "cell_type": "code",
   "execution_count": null,
   "metadata": {},
   "outputs": [],
   "source": [
    "await docrouter_app.payments.sync_payments_customer(org_id=org_id)"
   ]
  },
  {
   "cell_type": "code",
   "execution_count": null,
   "metadata": {},
   "outputs": [],
   "source": [
    "await docrouter_app.payments.delete_payments_customer(org_id=org_id, force=False)"
   ]
  }
 ],
 "metadata": {
  "kernelspec": {
   "display_name": ".venv",
   "language": "python",
   "name": "python3"
  },
  "language_info": {
   "codemirror_mode": {
    "name": "ipython",
    "version": 3
   },
   "file_extension": ".py",
   "mimetype": "text/x-python",
   "name": "python",
   "nbconvert_exporter": "python",
   "pygments_lexer": "ipython3",
   "version": "3.13.3"
  }
 },
 "nbformat": 4,
 "nbformat_minor": 2
}
