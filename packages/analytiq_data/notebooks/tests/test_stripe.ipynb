{
 "cells": [
  {
   "cell_type": "code",
   "execution_count": 1,
   "metadata": {},
   "outputs": [],
   "source": [
    "%load_ext autoreload\n",
    "%autoreload 2"
   ]
  },
  {
   "cell_type": "code",
   "execution_count": 2,
   "metadata": {},
   "outputs": [],
   "source": [
    "import sys\n",
    "sys.path.append(\"../../..\")"
   ]
  },
  {
   "cell_type": "code",
   "execution_count": 3,
   "metadata": {},
   "outputs": [],
   "source": [
    "import os\n",
    "from datetime import datetime, UTC\n",
    "import analytiq_data as ad\n",
    "import asyncio\n",
    "from bson import ObjectId\n",
    "from dotenv import load_dotenv\n",
    "import docrouter_app.payments"
   ]
  },
  {
   "cell_type": "code",
   "execution_count": 4,
   "metadata": {},
   "outputs": [],
   "source": [
    "ad.common.setup()\n",
    "await docrouter_app.payments.init_payments_env()"
   ]
  },
  {
   "cell_type": "code",
   "execution_count": 5,
   "metadata": {},
   "outputs": [],
   "source": [
    "#await docrouter_app.payments.delete_all_payments_customers(dryrun=False)"
   ]
  },
  {
   "cell_type": "code",
   "execution_count": 6,
   "metadata": {},
   "outputs": [],
   "source": [
    "org_id = \"6795345439604beca2b2808d\""
   ]
  },
  {
   "cell_type": "code",
   "execution_count": null,
   "metadata": {},
   "outputs": [],
   "source": [
    "await docrouter_app.payments.sync_payments_customer(org_id=org_id)"
   ]
  },
  {
   "cell_type": "code",
   "execution_count": null,
   "metadata": {},
   "outputs": [],
   "source": [
    "stripe_customer = await docrouter_app.payments.get_payments_customer(org_id=org_id)\n",
    "stripe_customer"
   ]
  },
  {
   "cell_type": "code",
   "execution_count": null,
   "metadata": {},
   "outputs": [],
   "source": [
    "stripe_customer.id"
   ]
  },
  {
   "cell_type": "code",
   "execution_count": null,
   "metadata": {},
   "outputs": [],
   "source": [
    "subscription = await docrouter_app.payments.get_subscription(stripe_customer.id)\n",
    "subscription"
   ]
  },
  {
   "cell_type": "code",
   "execution_count": 32,
   "metadata": {},
   "outputs": [
    {
     "name": "stderr",
     "output_type": "stream",
     "text": [
      "2025-07-03 14:57:00,935 - docrouter_app.payments - INFO - Current period start: 2025-07-01T10:51:10\n",
      "2025-07-03 14:57:00,936 - docrouter_app.payments - INFO - Current period end: 2025-08-01T10:51:10\n",
      "2025-07-03 14:57:00,940 - docrouter_app.payments - INFO - Using stored prorated included usage for 6795345439604beca2b2808d: 500\n"
     ]
    },
    {
     "data": {
      "text/plain": [
       "{'total_usage': 540,\n",
       " 'included_usage': 500,\n",
       " 'overage_usage': 40,\n",
       " 'remaining_included': 0,\n",
       " 'period_start': datetime.datetime(2025, 7, 1, 10, 51, 10),\n",
       " 'period_end': datetime.datetime(2025, 8, 1, 10, 51, 10),\n",
       " 'subscription_type': 'team',\n",
       " 'usage_unit': 'spu'}"
      ]
     },
     "execution_count": 32,
     "metadata": {},
     "output_type": "execute_result"
    }
   ],
   "source": [
    "await docrouter_app.payments.get_stripe_usage(org_id=org_id)"
   ]
  },
  {
   "cell_type": "code",
   "execution_count": null,
   "metadata": {},
   "outputs": [],
   "source": [
    "await docrouter_app.payments.set_subscription_type(stripe_customer.id, \"individual\")"
   ]
  },
  {
   "cell_type": "code",
   "execution_count": 31,
   "metadata": {},
   "outputs": [
    {
     "name": "stderr",
     "output_type": "stream",
     "text": [
      "2025-07-03 14:56:53,115 - docrouter_app.payments - INFO - handle_usage_record() called with org_id: 6795345439604beca2b2808d, spus: 400, operation: test, source: backend\n",
      "2025-07-03 14:56:53,307 - docrouter_app.payments - INFO - Stripe customer found for org_id: 6795345439604beca2b2808d: cus_SbGxOTbDNTq6wa\n"
     ]
    },
    {
     "data": {
      "text/plain": [
       "{'org_id': '6795345439604beca2b2808d',\n",
       " 'stripe_customer_id': 'cus_SbGxOTbDNTq6wa',\n",
       " 'spus': 400,\n",
       " 'operation': 'test',\n",
       " 'source': 'backend',\n",
       " 'timestamp': datetime.datetime(2025, 7, 3, 18, 56, 53, 508442),\n",
       " 'billing_period_id': None,\n",
       " '_id': ObjectId('6866d2752acc40c71544cf8c')}"
      ]
     },
     "execution_count": 31,
     "metadata": {},
     "output_type": "execute_result"
    }
   ],
   "source": [
    "await docrouter_app.payments.handle_usage_record(org_id=org_id, spus=400, operation=\"test\")"
   ]
  },
  {
   "cell_type": "code",
   "execution_count": null,
   "metadata": {},
   "outputs": [],
   "source": [
    "await docrouter_app.payments.set_subscription_type(stripe_customer.id, \"individual\")"
   ]
  },
  {
   "cell_type": "code",
   "execution_count": 38,
   "metadata": {},
   "outputs": [],
   "source": [
    "org_id = \"6859696f6ebcee0b712b9ac6\""
   ]
  },
  {
   "cell_type": "code",
   "execution_count": null,
   "metadata": {},
   "outputs": [],
   "source": [
    "await docrouter_app.payments.sync_payments_customer(org_id=org_id)"
   ]
  },
  {
   "cell_type": "code",
   "execution_count": null,
   "metadata": {},
   "outputs": [],
   "source": [
    "await docrouter_app.payments.delete_payments_customer(org_id=org_id, force=False)"
   ]
  },
  {
   "cell_type": "code",
   "execution_count": null,
   "metadata": {},
   "outputs": [],
   "source": [
    "await docrouter_app.payments.get_tier_config()"
   ]
  }
 ],
 "metadata": {
  "kernelspec": {
   "display_name": ".venv",
   "language": "python",
   "name": "python3"
  },
  "language_info": {
   "codemirror_mode": {
    "name": "ipython",
    "version": 3
   },
   "file_extension": ".py",
   "mimetype": "text/x-python",
   "name": "python",
   "nbconvert_exporter": "python",
   "pygments_lexer": "ipython3",
   "version": "3.13.3"
  }
 },
 "nbformat": 4,
 "nbformat_minor": 2
}
