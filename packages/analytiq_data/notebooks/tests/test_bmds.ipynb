{
 "cells": [
  {
   "cell_type": "code",
   "execution_count": null,
   "id": "41a04e1a",
   "metadata": {},
   "outputs": [],
   "source": [
    "import os\n",
    "import sys\n",
    "import pathlib\n",
    "import base64\n",
    "import pandas as pd\n",
    "from io import BytesIO\n",
    "\n",
    "# Try to import PDF libraries\n",
    "try:\n",
    "    import PyPDF2\n",
    "    PDF_LIBRARY = \"PyPDF2\"\n",
    "except ImportError:\n",
    "    try:\n",
    "        import pypdf\n",
    "        PDF_LIBRARY = \"pypdf\"\n",
    "    except ImportError:\n",
    "        PDF_LIBRARY = None"
   ]
  },
  {
   "cell_type": "code",
   "execution_count": null,
   "id": "2b46d2ba",
   "metadata": {},
   "outputs": [],
   "source": [
    "# Add the packages directory to the Python path\n",
    "# In Jupyter notebooks, __file__ is not available, so we use os.getcwd() instead\n",
    "TOP_DIR = pathlib.Path(os.getcwd()).parent.parent.parent.parent\n",
    "PACKAGES_DIR = TOP_DIR / \"packages\"\n",
    "sys.path.append(str(PACKAGES_DIR))"
   ]
  },
  {
   "cell_type": "code",
   "execution_count": null,
   "id": "4f588ebd",
   "metadata": {},
   "outputs": [],
   "source": [
    "BMDS_BASE_URL = os.environ[\"BMDS_BASE_URL\"]\n",
    "if not BMDS_BASE_URL:\n",
    "    raise ValueError(\"BMDS_BASE_URL is not set\")\n",
    "\n",
    "BMDS_WORKSPACE_TOKEN = os.environ[\"BMDS_WORKSPACE_TOKEN\"]\n",
    "if not BMDS_WORKSPACE_TOKEN:\n",
    "    raise ValueError(\"BMDS_WORKSPACE_TOKEN is not set\")\n",
    "\n",
    "# Get organization ID from environment\n",
    "BMDS_ORG_ID = os.environ.get(\"BMDS_ORG_ID\")\n",
    "if not BMDS_ORG_ID:\n",
    "    raise ValueError(\"BMDS_ORG_ID is not set\")\n",
    "\n",
    "BMDS_AAI_AIS_BATCH_TAG_ID = os.environ.get(\"BMDS_AAI_AIS_BATCH_TAG_ID\")\n",
    "if not BMDS_AAI_AIS_BATCH_TAG_ID:\n",
    "    raise ValueError(\"BMDS_AAI_AIS_BATCH_TAG_ID is not set\")"
   ]
  },
  {
   "cell_type": "code",
   "execution_count": null,
   "id": "f3de37d6",
   "metadata": {},
   "outputs": [],
   "source": [
    "from docrouter_sdk import DocRouterClient\n",
    "from docrouter_sdk.models.document import ListDocumentsResponse\n"
   ]
  },
  {
   "cell_type": "code",
   "execution_count": null,
   "id": "a9131f79",
   "metadata": {},
   "outputs": [],
   "source": [
    "client = DocRouterClient(\n",
    "        base_url=BMDS_BASE_URL,\n",
    "        api_token=BMDS_WORKSPACE_TOKEN\n",
    "    )"
   ]
  },
  {
   "cell_type": "code",
   "execution_count": null,
   "id": "60a8b7fc",
   "metadata": {},
   "outputs": [],
   "source": [
    "AAIAIS_PDF=\"/Users/andrei/Documents/Analytiq/Customers/BMDS/data/AAIAIS20210512.pdf\""
   ]
  },
  {
   "cell_type": "code",
   "execution_count": null,
   "id": "90e2aa00",
   "metadata": {},
   "outputs": [],
   "source": [
    "# Read the PDF file and split into pages\n",
    "def split_pdf_into_pages(pdf_path, output_dir):\n",
    "    \"\"\"Split a PDF file into individual pages and return list of page data\"\"\"\n",
    "    pages_data = []\n",
    "    \n",
    "    # Check if file exists and is readable\n",
    "    if not os.path.exists(pdf_path):\n",
    "        raise FileNotFoundError(f\"PDF file not found: {pdf_path}\")\n",
    "    \n",
    "    if not os.access(pdf_path, os.R_OK):\n",
    "        raise PermissionError(f\"Permission denied: Cannot read {pdf_path}\")\n",
    "    \n",
    "    print(f\"Reading PDF file: {pdf_path}\")\n",
    "    print(f\"File size: {os.path.getsize(pdf_path)} bytes\")\n",
    "    \n",
    "    try:\n",
    "        with open(pdf_path, 'rb') as file:\n",
    "            pdf_reader = PyPDF2.PdfReader(file)\n",
    "            num_pages = len(pdf_reader.pages)\n",
    "            \n",
    "            print(f\"Found {num_pages} pages in PDF\")\n",
    "            \n",
    "            for page_num in range(num_pages):\n",
    "                # Create a new PDF writer for this page\n",
    "                pdf_writer = PyPDF2.PdfWriter()\n",
    "                pdf_writer.add_page(pdf_reader.pages[page_num])\n",
    "                \n",
    "                # Create page filename\n",
    "                page_filename = f\"AAIAIS_page_{page_num + 1:03d}.pdf\"\n",
    "                page_path = output_dir / page_filename\n",
    "                \n",
    "                # Write the page to a file\n",
    "                with open(page_path, 'wb') as output_file:\n",
    "                    pdf_writer.write(output_file)\n",
    "                \n",
    "                # Read the page data for upload\n",
    "                with open(page_path, 'rb') as page_file:\n",
    "                    page_data = page_file.read()\n",
    "                \n",
    "                pages_data.append({\n",
    "                    'filename': page_filename,\n",
    "                    'path': page_path,\n",
    "                    'data': page_data,\n",
    "                    'page_number': page_num + 1\n",
    "                })\n",
    "                \n",
    "                print(f\"  Created page {page_num + 1}: {page_filename}\")\n",
    "    \n",
    "    except Exception as e:\n",
    "        print(f\"Error reading PDF file: {e}\")\n",
    "        raise\n",
    "    \n",
    "    return pages_data"
   ]
  },
  {
   "cell_type": "code",
   "execution_count": null,
   "id": "ffe2992f",
   "metadata": {},
   "outputs": [],
   "source": [
    "# Define output directory\n",
    "output_dir = pathlib.Path(\"/Users/andrei/Documents/Analytiq/Customers/BMDS/data/output\")\n",
    "output_dir.mkdir(parents=True, exist_ok=True)\n",
    "\n",
    "print(f\"Reading PDF file: {AAIAIS_PDF}\")\n",
    "print(f\"Output directory: {output_dir}\")\n",
    "\n",
    "# Split the PDF into pages\n",
    "pages_data = split_pdf_into_pages(AAIAIS_PDF, output_dir)\n",
    "\n",
    "print(f\"\\nCompleted! Created {len(pages_data)} PDF pages in {output_dir}\")\n",
    "print(f\"Created page files: {[page['filename'] for page in pages_data]}\")\n"
   ]
  },
  {
   "cell_type": "code",
   "execution_count": null,
   "id": "2f0d6081",
   "metadata": {},
   "outputs": [],
   "source": [
    "# Upload PDF pages to workspace (only missing ones)\n",
    "\n",
    "print(\"Checking which PDF pages are already in the workspace...\")\n",
    "\n",
    "# Get current documents in workspace\n",
    "existing_documents = client.documents.list(BMDS_ORG_ID)\n",
    "existing_filenames = {doc.document_name for doc in existing_documents.documents}\n",
    "\n",
    "print(f\"Found {len(existing_filenames)} existing documents in workspace\")\n",
    "print(f\"Existing filenames: {sorted(existing_filenames)}\")\n",
    "\n",
    "# Find PDF pages that need to be uploaded\n",
    "pdf_pages_to_upload = []\n",
    "for page_data in pages_data:\n",
    "    if page_data['filename'] not in existing_filenames:\n",
    "        pdf_pages_to_upload.append(page_data)\n",
    "    else:\n",
    "        print(f\"  ✓ {page_data['filename']} already exists in workspace\")\n",
    "\n",
    "print(f\"\\nPDF pages to upload: {[page['filename'] for page in pdf_pages_to_upload]}\")\n",
    "\n",
    "# Upload missing PDF pages\n",
    "if pdf_pages_to_upload:\n",
    "    print(f\"\\nUploading {len(pdf_pages_to_upload)} PDF pages...\")\n",
    "    \n",
    "    documents_to_upload = []\n",
    "    for page_data in pdf_pages_to_upload:\n",
    "        # Encode PDF data as base64\n",
    "        pdf_base64 = base64.b64encode(page_data['data']).decode()\n",
    "        \n",
    "        # Create document data\n",
    "        document_data = {\n",
    "            \"name\": page_data['filename'],\n",
    "            \"content\": f\"data:application/pdf;base64,{pdf_base64}\",\n",
    "            \"tag_ids\": [BMDS_AAI_AIS_BATCH_TAG_ID],\n",
    "            \"metadata\": {\n",
    "                \"source\": \"aaiais_pdf_split\",\n",
    "                \"original_document\": \"AAIAIS20210512.pdf\",\n",
    "                \"page_number\": page_data['page_number'],\n",
    "                \"total_pages\": len(pages_data)\n",
    "            }\n",
    "        }\n",
    "        documents_to_upload.append(document_data)\n",
    "        print(f\"  Prepared {page_data['filename']} for upload with tag {BMDS_AAI_AIS_BATCH_TAG_ID}\")\n",
    "    \n",
    "    # Upload all documents at once\n",
    "    upload_result = client.documents.upload(BMDS_ORG_ID, documents_to_upload)\n",
    "    print(f\"\\nUpload completed!\")\n",
    "    print(f\"Uploaded {len(upload_result['documents'])} documents:\")\n",
    "    for doc in upload_result['documents']:\n",
    "        print(f\"  - {doc['document_name']} (ID: {doc['document_id']})\")\n",
    "else:\n",
    "    print(\"\\nAll PDF pages are already in the workspace - no upload needed!\")\n"
   ]
  },
  {
   "cell_type": "code",
   "execution_count": null,
   "id": "610084dc",
   "metadata": {},
   "outputs": [],
   "source": [
    "\n"
   ]
  },
  {
   "cell_type": "code",
   "execution_count": null,
   "id": "746142e7",
   "metadata": {},
   "outputs": [],
   "source": [
    "# List documents in the BMDS workspace\n",
    "print(\"Listing documents in BMDS workspace...\")\n",
    "documents = client.documents.list(BMDS_ORG_ID)\n",
    "\n",
    "print(f\"Found {documents.total_count} documents\")\n",
    "print(\"\\nDocument details:\")\n",
    "for i, doc in enumerate(documents.documents, 1):\n",
    "    print(f\"{i}. ID: {doc.id}\")\n",
    "    print(f\"   Name: {doc.document_name}\")\n",
    "    print(f\"   Created: {doc.created_at}\")\n",
    "    print(f\"   Size: {doc.size_bytes} bytes\")\n",
    "    if doc.metadata:\n",
    "        print(f\"   Metadata: {doc.metadata}\")\n",
    "    print()\n",
    "\n",
    "# Show summary of AAIAIS pages\n",
    "aaiais_pages = [doc for doc in documents.documents if doc.document_name.startswith(\"AAIAIS_page_\")]\n",
    "if aaiiais_pages:\n",
    "    print(f\"\\nAAIAIS PDF Pages Summary:\")\n",
    "    print(f\"Total AAIAIS pages in workspace: {len(aaiiais_pages)}\")\n",
    "    print(\"Page numbers:\", sorted([int(doc.document_name.split('_')[-1].split('.')[0]) for doc in aaiiais_pages]))\n",
    "else:\n",
    "    print(\"\\nNo AAIAIS pages found in workspace.\")\n"
   ]
  },
  {
   "cell_type": "code",
   "execution_count": null,
   "id": "7df1223b",
   "metadata": {},
   "outputs": [],
   "source": [
    "\n"
   ]
  },
  {
   "cell_type": "code",
   "execution_count": null,
   "id": "feca9b90",
   "metadata": {},
   "outputs": [],
   "source": []
  },
  {
   "cell_type": "code",
   "execution_count": null,
   "id": "47b1624d",
   "metadata": {},
   "outputs": [],
   "source": [
    "\n"
   ]
  },
  {
   "cell_type": "code",
   "execution_count": null,
   "id": "3f4eafe8",
   "metadata": {},
   "outputs": [],
   "source": []
  }
 ],
 "metadata": {
  "kernelspec": {
   "display_name": ".venv",
   "language": "python",
   "name": "python3"
  },
  "language_info": {
   "codemirror_mode": {
    "name": "ipython",
    "version": 3
   },
   "file_extension": ".py",
   "mimetype": "text/x-python",
   "name": "python",
   "nbconvert_exporter": "python",
   "pygments_lexer": "ipython3",
   "version": "3.11.10"
  }
 },
 "nbformat": 4,
 "nbformat_minor": 5
}
