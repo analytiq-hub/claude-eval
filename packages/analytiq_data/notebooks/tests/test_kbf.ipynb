{
 "cells": [
  {
   "cell_type": "code",
   "execution_count": 1,
   "id": "41a04e1a",
   "metadata": {},
   "outputs": [],
   "source": [
    "import os\n",
    "import sys\n",
    "import pathlib\n",
    "import base64"
   ]
  },
  {
   "cell_type": "code",
   "execution_count": 2,
   "id": "2b46d2ba",
   "metadata": {},
   "outputs": [],
   "source": [
    "# Add the packages directory to the Python path\n",
    "# In Jupyter notebooks, __file__ is not available, so we use os.getcwd() instead\n",
    "TOP_DIR = pathlib.Path(os.getcwd()).parent.parent.parent.parent\n",
    "PACKAGES_DIR = TOP_DIR / \"packages\"\n",
    "sys.path.append(str(PACKAGES_DIR))"
   ]
  },
  {
   "cell_type": "code",
   "execution_count": 3,
   "id": "f3de37d6",
   "metadata": {},
   "outputs": [],
   "source": [
    "from docrouter_sdk import DocRouterClient\n",
    "from docrouter_sdk.models.document import ListDocumentsResponse\n"
   ]
  },
  {
   "cell_type": "code",
   "execution_count": null,
   "id": "a8d13d60",
   "metadata": {},
   "outputs": [],
   "source": [
    "\n"
   ]
  },
  {
   "cell_type": "code",
   "execution_count": null,
   "id": "7df1223b",
   "metadata": {},
   "outputs": [],
   "source": [
    "\n"
   ]
  },
  {
   "cell_type": "code",
   "execution_count": null,
   "id": "feca9b90",
   "metadata": {},
   "outputs": [],
   "source": []
  },
  {
   "cell_type": "code",
   "execution_count": null,
   "id": "47b1624d",
   "metadata": {},
   "outputs": [],
   "source": [
    "\n"
   ]
  },
  {
   "cell_type": "code",
   "execution_count": null,
   "id": "3f4eafe8",
   "metadata": {},
   "outputs": [],
   "source": []
  }
 ],
 "metadata": {
  "kernelspec": {
   "display_name": ".venv",
   "language": "python",
   "name": "python3"
  },
  "language_info": {
   "codemirror_mode": {
    "name": "ipython",
    "version": 3
   },
   "file_extension": ".py",
   "mimetype": "text/x-python",
   "name": "python",
   "nbconvert_exporter": "python",
   "pygments_lexer": "ipython3",
   "version": "3.13.7"
  }
 },
 "nbformat": 4,
 "nbformat_minor": 5
}
