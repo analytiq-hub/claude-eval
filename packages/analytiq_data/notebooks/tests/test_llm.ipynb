{
 "cells": [
  {
   "cell_type": "code",
   "execution_count": 1,
   "metadata": {},
   "outputs": [],
   "source": [
    "%load_ext autoreload\n",
    "%autoreload 2"
   ]
  },
  {
   "cell_type": "code",
   "execution_count": 2,
   "metadata": {},
   "outputs": [],
   "source": [
    "import sys\n",
    "sys.path.append(\"../../..\")"
   ]
  },
  {
   "cell_type": "code",
   "execution_count": 3,
   "metadata": {},
   "outputs": [],
   "source": [
    "import os\n",
    "import analytiq_data as ad\n",
    "import asyncio"
   ]
  },
  {
   "cell_type": "code",
   "execution_count": 4,
   "metadata": {},
   "outputs": [],
   "source": [
    "ad.common.setup()"
   ]
  },
  {
   "cell_type": "code",
   "execution_count": 5,
   "metadata": {},
   "outputs": [],
   "source": [
    "# Set the MONGODB_URI environment variable\n",
    "os.environ[\"MONGODB_URI\"] = \"mongodb://localhost:27017\""
   ]
  },
  {
   "cell_type": "code",
   "execution_count": null,
   "metadata": {},
   "outputs": [],
   "source": [
    "analytiq_client = ad.common.get_analytiq_client(env=\"test\")\n",
    "\n",
    "llm_key = await ad.llm.get_llm_key(analytiq_client, llm_vendor=\"Mistral\")\n",
    "print(llm_key)"
   ]
  },
  {
   "cell_type": "code",
   "execution_count": null,
   "metadata": {},
   "outputs": [],
   "source": [
    "org_id = \"6795345439604beca2b2808d\"\n",
    "prompt_id, version = await ad.common.get_prompt_id_and_version(analytiq_client, \"cv\", org_id)\n",
    "prompt_id, version"
   ]
  },
  {
   "cell_type": "code",
   "execution_count": null,
   "metadata": {},
   "outputs": [],
   "source": [
    "prompt_rev_id = await ad.common.get_prompt_rev_id(analytiq_client, prompt_id, version)\n",
    "prompt_rev_id"
   ]
  },
  {
   "cell_type": "code",
   "execution_count": 9,
   "metadata": {},
   "outputs": [],
   "source": [
    "document_id = \"679c9abbfcb627f388ffd59f\""
   ]
  },
  {
   "cell_type": "code",
   "execution_count": null,
   "metadata": {},
   "outputs": [],
   "source": [
    "llm_result = await ad.llm.run_llm(analytiq_client,\n",
    "                                  document_id=document_id,\n",
    "                                  prompt_rev_id=prompt_rev_id,\n",
    "                                  #llm_model=\"groq/deepseek-r1-distill-llama-70b\",\n",
    "                                  #llm_model=\"gemini/gemini-2.0-flash\",\n",
    "                                  llm_model=\"gpt-4o-mini\",\n",
    "                                  #llm_model=\"gpt-4o\",\n",
    "                                  #llm_model=\"claude-3-5-sonnet\",\n",
    "                                  #llm_model=\"mistral/mistral-large-latest\",\n",
    "                                  #llm_model=\"mistral/open-mixtral-8x22b\",\n",
    "                                  force=True)\n",
    "llm_result\n"
   ]
  },
  {
   "cell_type": "code",
   "execution_count": null,
   "metadata": {},
   "outputs": [],
   "source": [
    "llm_result_id = await ad.llm.save_llm_result(analytiq_client,\n",
    "                                             document_id=document_id,\n",
    "                                             prompt_rev_id=prompt_rev_id,\n",
    "                                             llm_result=llm_result)\n",
    "llm_result_id"
   ]
  },
  {
   "cell_type": "code",
   "execution_count": null,
   "metadata": {},
   "outputs": [],
   "source": [
    "llm_result = await ad.llm.get_llm_result(analytiq_client,\n",
    "                                         document_id=document_id,\n",
    "                                         prompt_rev_id=prompt_rev_id)\n",
    "llm_result\n"
   ]
  },
  {
   "cell_type": "code",
   "execution_count": null,
   "metadata": {},
   "outputs": [],
   "source": [
    "await ad.llm.delete_llm_result(analytiq_client,\n",
    "                                document_id=document_id,\n",
    "                                prompt_rev_id=prompt_rev_id)\n"
   ]
  },
  {
   "cell_type": "code",
   "execution_count": null,
   "metadata": {},
   "outputs": [],
   "source": [
    "await ad.llm.run_llm_for_prompt_rev_ids(analytiq_client,\n",
    "                                        document_id=document_id,\n",
    "                                        prompt_rev_ids=[prompt_rev_id],\n",
    "                                        model=\"groq/deepseek-r1-distill-llama-70b\")\n"
   ]
  },
  {
   "cell_type": "code",
   "execution_count": null,
   "metadata": {},
   "outputs": [],
   "source": [
    "from litellm.utils import supports_response_schema\n",
    "\n",
    "supports_response_schema(model=\"groq/deepseek-r1-distill-llama-70b\")"
   ]
  },
  {
   "cell_type": "code",
   "execution_count": null,
   "metadata": {},
   "outputs": [],
   "source": [
    "await ad.llm.list_llm_providers(analytiq_client)"
   ]
  },
  {
   "cell_type": "code",
   "execution_count": null,
   "metadata": {},
   "outputs": [],
   "source": [
    "await ad.llm.providers.setup_llm_providers(analytiq_client)"
   ]
  }
 ],
 "metadata": {
  "kernelspec": {
   "display_name": ".venv",
   "language": "python",
   "name": "python3"
  },
  "language_info": {
   "codemirror_mode": {
    "name": "ipython",
    "version": 3
   },
   "file_extension": ".py",
   "mimetype": "text/x-python",
   "name": "python",
   "nbconvert_exporter": "python",
   "pygments_lexer": "ipython3",
   "version": "3.13.3"
  }
 },
 "nbformat": 4,
 "nbformat_minor": 2
}
