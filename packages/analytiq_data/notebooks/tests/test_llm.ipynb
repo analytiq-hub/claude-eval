{
 "cells": [
  {
   "cell_type": "code",
   "execution_count": 1,
   "metadata": {},
   "outputs": [],
   "source": [
    "%load_ext autoreload\n",
    "%autoreload 2"
   ]
  },
  {
   "cell_type": "code",
   "execution_count": 2,
   "metadata": {},
   "outputs": [],
   "source": [
    "import sys\n",
    "sys.path.append(\"../../..\")"
   ]
  },
  {
   "cell_type": "code",
   "execution_count": 3,
   "metadata": {},
   "outputs": [],
   "source": [
    "import os\n",
    "import analytiq_data as ad\n",
    "import asyncio"
   ]
  },
  {
   "cell_type": "code",
   "execution_count": 4,
   "metadata": {},
   "outputs": [],
   "source": [
    "ad.common.setup()"
   ]
  },
  {
   "cell_type": "code",
   "execution_count": 5,
   "metadata": {},
   "outputs": [],
   "source": [
    "# Set the MONGODB_URI environment variable\n",
    "os.environ[\"MONGODB_URI\"] = \"mongodb://localhost:27017\""
   ]
  },
  {
   "cell_type": "code",
   "execution_count": 6,
   "metadata": {},
   "outputs": [
    {
     "name": "stdout",
     "output_type": "stream",
     "text": [
      "qP8xDKSfu6Ede7pbEmUWc6I6ii7sOAHr\n"
     ]
    }
   ],
   "source": [
    "analytiq_client = ad.common.get_analytiq_client(env=\"test\")\n",
    "\n",
    "llm_key = await ad.llm.get_llm_key(analytiq_client, llm_provider=\"mistral\")\n",
    "print(llm_key)"
   ]
  },
  {
   "cell_type": "code",
   "execution_count": 7,
   "metadata": {},
   "outputs": [
    {
     "data": {
      "text/plain": [
       "('67fb329275436ea808f0c0b5', 7)"
      ]
     },
     "execution_count": 7,
     "metadata": {},
     "output_type": "execute_result"
    }
   ],
   "source": [
    "org_id = \"6795345439604beca2b2808d\"\n",
    "prompt_id, version = await ad.common.get_prompt_id(analytiq_client, \"cv\", org_id)\n",
    "prompt_id, version"
   ]
  },
  {
   "cell_type": "code",
   "execution_count": 15,
   "metadata": {},
   "outputs": [
    {
     "data": {
      "text/plain": [
       "'688ae98796b08198647ef46d'"
      ]
     },
     "execution_count": 15,
     "metadata": {},
     "output_type": "execute_result"
    }
   ],
   "source": [
    "prompt_rev_id = await ad.common.get_prompt_rev_id(analytiq_client, prompt_id, version)\n",
    "prompt_rev_id"
   ]
  },
  {
   "cell_type": "code",
   "execution_count": 18,
   "metadata": {},
   "outputs": [],
   "source": [
    "prompt_rev_id = \"68926f54b175d0e0ff51b11c\""
   ]
  },
  {
   "cell_type": "code",
   "execution_count": 19,
   "metadata": {},
   "outputs": [],
   "source": [
    "document_id = \"687c5bd2eecf1be4639ea6d0\""
   ]
  },
  {
   "cell_type": "code",
   "execution_count": 20,
   "metadata": {},
   "outputs": [
    {
     "name": "stderr",
     "output_type": "stream",
     "text": [
      "2025-08-05 17:03:25,192 - analytiq_data.llm.models - INFO - Checking if groq/deepseek-r1-distill-llama-70b is a chat model\n"
     ]
    },
    {
     "data": {
      "text/plain": [
       "'groq/deepseek-r1-distill-llama-70b'"
      ]
     },
     "execution_count": 20,
     "metadata": {},
     "output_type": "execute_result"
    }
   ],
   "source": [
    "await ad.llm.get_llm_model(analytiq_client, prompt_rev_id)"
   ]
  },
  {
   "cell_type": "code",
   "execution_count": 13,
   "metadata": {},
   "outputs": [],
   "source": [
    "# Clear the AWS credentials in the env to avoid using them\n",
    "os.environ[\"AWS_ACCESS_KEY_ID\"] = \"\"\n",
    "os.environ[\"AWS_SECRET_ACCESS_KEY\"] = \"\"\n",
    "os.environ[\"AWS_REGION_NAME\"] = \"\""
   ]
  },
  {
   "cell_type": "code",
   "execution_count": 30,
   "metadata": {},
   "outputs": [
    {
     "name": "stderr",
     "output_type": "stream",
     "text": [
      "2025-08-05 17:21:28,546 - analytiq_data.llm.llm - INFO - Running new LLM analysis for document_id: 687c5bd2eecf1be4639ea6d0, prompt_rev_id: 68926f54b175d0e0ff51b11c\n",
      "2025-08-05 17:21:28,548 - analytiq_data.payments.spu - INFO - Checking spu limits for org_id: 684d12aafb34e85859f12712\n",
      "2025-08-05 17:21:28,548 - analytiq_data.llm.models - INFO - Checking if groq/deepseek-r1-distill-llama-70b is a chat model\n",
      "2025-08-05 17:21:28,549 - analytiq_data.llm.llm - INFO - LLM model: groq/deepseek-r1-distill-llama-70b, provider: groq, api_key: gsk_nrtxcOehMGXc********\n",
      "2025-08-05 17:21:28,553 - analytiq_data.llm.llm - INFO - Attaching OCR-only to prompt 68926f54b175d0e0ff51b11c\n",
      "2025-08-05 17:21:28,555 - analytiq_data.llm.llm - INFO - Response format: {'type': 'json_schema', 'json_schema': {'name': 'document_extraction', 'schema': {'type': 'object', 'properties': {'document_type': {'type': 'string', 'description': 'Type of insurance application. One of: personal, commercial, unknown. Do not leave empty.'}, 'clearance_search_fields': {'type': 'object', 'properties': {'insured_name': {'type': 'object', 'properties': {'full_name': {'type': 'string', 'description': 'Complete name as it appears in the document'}, 'first_name': {'type': 'string', 'description': 'First name if individual'}, 'middle_name': {'type': 'string', 'description': 'Middle name or initial if present'}, 'last_name': {'type': 'string', 'description': 'Last name if individual'}, 'entity_type': {'type': 'string', 'description': 'Type of entity'}, 'confidence': {'type': 'integer', 'description': 'Confidence score for this field, on a scale from 0 to 10.'}}, 'additionalProperties': False, 'required': ['full_name', 'first_name', 'middle_name', 'last_name', 'entity_type', 'confidence'], 'description': 'Name of the applicant/insured (may be individual, trust, or business)'}, 'mailing_address': {'type': 'object', 'properties': {'street_address': {'type': 'string', 'description': 'Street number and name'}, 'street_address_2': {'type': 'string', 'description': 'Apartment, suite, unit, etc.'}, 'city': {'type': 'string', 'description': 'City name'}, 'state': {'type': 'string', 'description': 'State abbreviation or full name'}, 'zip_code': {'type': 'string', 'description': 'ZIP code (5 or 9 digits)'}, 'confidence': {'type': 'integer', 'description': 'Confidence score for this field, on a scale from 0 to 10.'}}, 'additionalProperties': False, 'required': ['street_address', 'street_address_2', 'city', 'state', 'zip_code', 'confidence'], 'description': 'Mailing address of the applicant/insured (not property address)'}}, 'additionalProperties': False, 'required': ['insured_name', 'mailing_address'], 'description': 'Primary fields required for clearance search'}, 'additional_clearance_fields': {'type': 'object', 'properties': {'date_of_birth': {'type': 'string', 'description': 'Date of birth if individual.'}, 'occupation': {'type': 'string', 'description': 'Occupation of insured if provided.'}, 'phone_number': {'type': 'string', 'description': 'Primary phone number'}, 'email': {'type': 'string', 'description': 'Email address if provided'}}, 'additionalProperties': False, 'required': ['date_of_birth', 'occupation', 'phone_number', 'email'], 'description': 'Additional fields that may be needed for clearance'}, 'document_quality_indicators': {'type': 'object', 'properties': {'is_handwritten': {'type': 'boolean', 'description': 'Contains handwritten portions'}, 'is_scanned': {'type': 'boolean', 'description': 'Appears to be a scanned document'}, 'has_corrections': {'type': 'boolean', 'description': 'Contains crossed out or corrected information'}, 'quality_issues': {'type': 'array', 'items': {'type': 'string'}, 'description': 'List of quality issues encountered'}}, 'additionalProperties': False, 'required': ['is_handwritten', 'is_scanned', 'has_corrections', 'quality_issues'], 'description': 'Indicators of document quality and extraction challenges'}, 'human_review_guidance': {'type': 'object', 'properties': {'review_required': {'type': 'boolean', 'description': 'Whether human review is required'}, 'confidence_score': {'type': 'integer', 'description': 'Overall confidence score for the extraction, on a scale from 0 to 10.'}, 'extraction_warnings': {'type': 'string', 'description': 'List of warnings or issues during extraction'}}, 'additionalProperties': False, 'required': ['review_required', 'confidence_score', 'extraction_warnings'], 'description': 'Specific guidance for human review if needed'}, 'review_reasons': {'type': 'array', 'items': {'type': 'object', 'properties': {'field': {'type': 'string', 'description': 'Field that needs to be reviewed'}, 'reason': {'type': 'string', 'description': 'Reason to review'}, 'suggested_action': {'type': 'string', 'description': 'Suggested corrective actions'}}, 'additionalProperties': False, 'required': ['field', 'reason', 'suggested_action']}, 'description': 'Reasons why review is needed'}}, 'required': ['document_type', 'clearance_search_fields', 'additional_clearance_fields', 'document_quality_indicators', 'human_review_guidance', 'review_reasons'], 'additionalProperties': False}, 'strict': True}}\n",
      "2025-08-05 17:21:28,555 - analytiq_data.llm.llm - INFO - Disabling response_format for Groq provider\n",
      "\u001b[92m17:21:28 - LiteLLM:INFO\u001b[0m: utils.py:2826 - \n",
      "LiteLLM completion() model= deepseek-r1-distill-llama-70b; provider = groq\n",
      "2025-08-05 17:21:28,556 - LiteLLM - INFO - \n",
      "LiteLLM completion() model= deepseek-r1-distill-llama-70b; provider = groq\n",
      "2025-08-05 17:21:30,920 - httpx - INFO - HTTP Request: POST https://api.groq.com/openai/v1/chat/completions \"HTTP/1.1 200 OK\"\n",
      "\u001b[92m17:21:30 - LiteLLM:INFO\u001b[0m: cost_calculator.py:655 - selected model name for cost calculation: groq/deepseek-r1-distill-llama-70b\n",
      "2025-08-05 17:21:30,923 - LiteLLM - INFO - selected model name for cost calculation: groq/deepseek-r1-distill-llama-70b\n",
      "2025-08-05 17:21:30,924 - analytiq_data.payments.spu - INFO - Recording 1 spu usage for org_id: 684d12aafb34e85859f12712\n",
      "2025-08-05 17:21:30,925 - analytiq_data.llm.llm - INFO - LLM response: ModelResponse(id='chatcmpl-44a58425-59c5-41e7-a9ed-1466fd37c405', created=1754428890, model='deepseek-r1-distill-llama-70b', object='chat.completion', system_fingerprint='fp_1bbe7845ec', choices=[Choices(finish_reason='stop', index=0, message=Message(content='<think>\\nAlright, I need to extract the applicant\\'s name and mailing address from this insurance document. Let me go through the text step by step.\\n\\nFirst, I\\'ll look for sections labeled \"Applicant Information\" or similar. I see \"APPLICANT\\'S NAME AND MAILING ADDRESS\" at the top, which is a good starting point. The name listed there is \"Susan a Boucher for life.\" That seems a bit unusual, but I\\'ll take it as is since it\\'s the applicant\\'s name.\\n\\nNext, for the mailing address, I notice two addresses: \"51 Isabella ave\" and \"941 PARK AVE / Providence, RI 02908\" and \"CRANSTON RI 02910.\" I need to determine which one is the mailing address. The document mentions \"MAIL POLICY TO:\" with options like \"BILLING\" and \"BILL APPLICANT.\" Since the applicant\\'s address is specified as \"51 Isabella ave, CRANSTON RI 02910,\" that should be the mailing address.\\n\\nNow, checking the quality of the document. The information is typed, so that\\'s clear. I don\\'t see any handwritten corrections, which is good. The addresses are well-structured, so no issues there.\\n\\nConfidence score: Since everything is clear and typed, I\\'ll give a high score, maybe 10 for the name and 10 for the address.\\n\\nNo need for human review since everything is clear and unambiguous.\\n</think>\\n\\n```json\\n{\\n  \"applicant_name\": {\\n    \"value\": \"Susan a Boucher for life\",\\n    \"confidence_score\": 10,\\n    \"source_location\": \"Page 1\",\\n    \"quality_issues\": [],\\n    \"human_review_recommended\": false\\n  },\\n  \"mailing_address\": {\\n    \"street_address_1\": \"51 Isabella ave\",\\n    \"street_address_2\": \"\",\\n    \"city\": \"Cranston\",\\n    \"state\": \"RI\",\\n    \"zip_code\": \"02910\",\\n    \"confidence_score\": 10,\\n    \"source_location\": \"Page 1\",\\n    \"quality_issues\": [],\\n    \"human_review_recommended\": false\\n  }\\n}\\n```', role='assistant', tool_calls=None, function_call=None, provider_specific_fields=None))], usage=Usage(completion_tokens=448, prompt_tokens=4168, total_tokens=4616, completion_tokens_details=None, prompt_tokens_details=None, queue_time=0.196243368, prompt_time=0.387403802, completion_time=1.576174467, total_time=1.963578269), usage_breakdown=None, x_groq={'id': 'req_01k1y1rnmnekhs674pwyzw8hw2'}, service_tier='on_demand')\n",
      "2025-08-05 17:21:30,925 - analytiq_data.llm.llm - INFO - LLM response content: <think>\n",
      "Alright, I need to extract the applicant's name and mailing address from this insurance document. Let me go through the text step by step.\n",
      "\n",
      "First, I'll look for sections labeled \"Applicant Information\" or similar. I see \"APPLICANT'S NAME AND MAILING ADDRESS\" at the top, which is a good starting point. The name listed there is \"Susan a Boucher for life.\" That seems a bit unusual, but I'll take it as is since it's the applicant's name.\n",
      "\n",
      "Next, for the mailing address, I notice two addresses: \"51 Isabella ave\" and \"941 PARK AVE / Providence, RI 02908\" and \"CRANSTON RI 02910.\" I need to determine which one is the mailing address. The document mentions \"MAIL POLICY TO:\" with options like \"BILLING\" and \"BILL APPLICANT.\" Since the applicant's address is specified as \"51 Isabella ave, CRANSTON RI 02910,\" that should be the mailing address.\n",
      "\n",
      "Now, checking the quality of the document. The information is typed, so that's clear. I don't see any handwritten corrections, which is good. The addresses are well-structured, so no issues there.\n",
      "\n",
      "Confidence score: Since everything is clear and typed, I'll give a high score, maybe 10 for the name and 10 for the address.\n",
      "\n",
      "No need for human review since everything is clear and unambiguous.\n",
      "</think>\n",
      "\n",
      "```json\n",
      "{\n",
      "  \"applicant_name\": {\n",
      "    \"value\": \"Susan a Boucher for life\",\n",
      "    \"confidence_score\": 10,\n",
      "    \"source_location\": \"Page 1\",\n",
      "    \"quality_issues\": [],\n",
      "    \"human_review_recommended\": false\n",
      "  },\n",
      "  \"mailing_address\": {\n",
      "    \"street_address_1\": \"51 Isabella ave\",\n",
      "    \"street_address_2\": \"\",\n",
      "    \"city\": \"Cranston\",\n",
      "    \"state\": \"RI\",\n",
      "    \"zip_code\": \"02910\",\n",
      "    \"confidence_score\": 10,\n",
      "    \"source_location\": \"Page 1\",\n",
      "    \"quality_issues\": [],\n",
      "    \"human_review_recommended\": false\n",
      "  }\n",
      "}\n",
      "```\n",
      "\u001b[92m17:21:30 - LiteLLM:INFO\u001b[0m: cost_calculator.py:655 - selected model name for cost calculation: groq/deepseek-r1-distill-llama-70b\n",
      "2025-08-05 17:21:30,927 - LiteLLM - INFO - selected model name for cost calculation: groq/deepseek-r1-distill-llama-70b\n",
      "2025-08-05 17:21:30,933 - analytiq_data.llm.llm - INFO - Saving LLM result: {'prompt_rev_id': '68926f54b175d0e0ff51b11c', 'prompt_id': '687a8819eecf1be4639e951e', 'prompt_version': 24, 'document_id': '687c5bd2eecf1be4639ea6d0', 'llm_result': {'applicant_name': {'value': 'Susan a Boucher for life', 'confidence_score': 10, 'source_location': 'Page 1', 'quality_issues': [], 'human_review_recommended': False}, 'mailing_address': {'street_address_1': '51 Isabella ave', 'street_address_2': '', 'city': 'Cranston', 'state': 'RI', 'zip_code': '02910', 'confidence_score': 10, 'source_location': 'Page 1', 'quality_issues': [], 'human_review_recommended': False}}, 'updated_llm_result': {'applicant_name': {'value': 'Susan a Boucher for life', 'confidence_score': 10, 'source_location': 'Page 1', 'quality_issues': [], 'human_review_recommended': False}, 'mailing_address': {'street_address_1': '51 Isabella ave', 'street_address_2': '', 'city': 'Cranston', 'state': 'RI', 'zip_code': '02910', 'confidence_score': 10, 'source_location': 'Page 1', 'quality_issues': [], 'human_review_recommended': False}}, 'is_edited': False, 'is_verified': False, 'created_at': datetime.datetime(2025, 8, 5, 21, 21, 30, 932365, tzinfo=datetime.timezone.utc), 'updated_at': datetime.datetime(2025, 8, 5, 21, 21, 30, 932365, tzinfo=datetime.timezone.utc)}\n"
     ]
    },
    {
     "data": {
      "text/plain": [
       "{'applicant_name': {'value': 'Susan a Boucher for life',\n",
       "  'confidence_score': 10,\n",
       "  'source_location': 'Page 1',\n",
       "  'quality_issues': [],\n",
       "  'human_review_recommended': False},\n",
       " 'mailing_address': {'street_address_1': '51 Isabella ave',\n",
       "  'street_address_2': '',\n",
       "  'city': 'Cranston',\n",
       "  'state': 'RI',\n",
       "  'zip_code': '02910',\n",
       "  'confidence_score': 10,\n",
       "  'source_location': 'Page 1',\n",
       "  'quality_issues': [],\n",
       "  'human_review_recommended': False}}"
      ]
     },
     "execution_count": 30,
     "metadata": {},
     "output_type": "execute_result"
    }
   ],
   "source": [
    "llm_result = await ad.llm.run_llm(analytiq_client,\n",
    "                                  document_id=document_id,\n",
    "                                  prompt_rev_id=prompt_rev_id,\n",
    "                                  #llm_model=\"bedrock/anthropic.claude-3-7-sonnet-20250219-v1:0\",\n",
    "                                  #llm_model=\"anthropic.claude-3-5-sonnet-20240620-v1:0\",\n",
    "                                  llm_model=\"groq/deepseek-r1-distill-llama-70b\",\n",
    "                                  #llm_model=\"gemini/gemini-2.0-flash\",\n",
    "                                  #llm_model=\"gemini/gemini-2.5-flash-preview-05-20\",\n",
    "                                  #llm_model=\"gemini/gemini-2.5-flash-preview-tts\",\n",
    "                                  #llm_model=\"azure_ai/deepseek-v3\",\n",
    "                                  #llm_model=\"gpt-4o-mini\",\n",
    "                                  #llm_model=\"gpt-4o-2024-08-06\",\n",
    "                                  #llm_model=\"claude-3-5-sonnet\",\n",
    "                                  #llm_model=\"mistral/mistral-large-latest\",\n",
    "                                  #llm_model=\"mistral/open-mixtral-8x22b\",\n",
    "                                  force=True)\n",
    "llm_result\n"
   ]
  },
  {
   "cell_type": "code",
   "execution_count": null,
   "metadata": {},
   "outputs": [],
   "source": [
    "llm_result_id = await ad.llm.save_llm_result(analytiq_client,\n",
    "                                             document_id=document_id,\n",
    "                                             prompt_rev_id=prompt_rev_id,\n",
    "                                             llm_result=llm_result)\n",
    "llm_result_id"
   ]
  },
  {
   "cell_type": "code",
   "execution_count": null,
   "metadata": {},
   "outputs": [],
   "source": [
    "llm_result = await ad.llm.get_llm_result(analytiq_client,\n",
    "                                         document_id=document_id,\n",
    "                                         prompt_rev_id=prompt_rev_id)\n",
    "llm_result\n"
   ]
  },
  {
   "cell_type": "code",
   "execution_count": null,
   "metadata": {},
   "outputs": [],
   "source": [
    "await ad.llm.delete_llm_result(analytiq_client,\n",
    "                                document_id=document_id,\n",
    "                                prompt_rev_id=prompt_rev_id)\n"
   ]
  },
  {
   "cell_type": "code",
   "execution_count": null,
   "metadata": {},
   "outputs": [],
   "source": [
    "await ad.llm.run_llm_for_prompt_rev_ids(analytiq_client,\n",
    "                                        document_id=document_id,\n",
    "                                        prompt_rev_ids=[prompt_rev_id],\n",
    "                                        model=\"groq/deepseek-r1-distill-llama-70b\")\n"
   ]
  },
  {
   "cell_type": "code",
   "execution_count": null,
   "metadata": {},
   "outputs": [],
   "source": [
    "from litellm.utils import supports_response_schema\n",
    "\n",
    "supports_response_schema(model=\"groq/deepseek-r1-distill-llama-70b\")"
   ]
  },
  {
   "cell_type": "code",
   "execution_count": null,
   "metadata": {},
   "outputs": [],
   "source": [
    "await ad.llm.list_llm_providers(analytiq_client)"
   ]
  },
  {
   "cell_type": "code",
   "execution_count": null,
   "metadata": {},
   "outputs": [],
   "source": [
    "ad.llm.is_chat_model(\"mistral/mistral-large-latest\")"
   ]
  },
  {
   "cell_type": "code",
   "execution_count": null,
   "metadata": {},
   "outputs": [],
   "source": [
    "ad.llm.get_supported_models()"
   ]
  },
  {
   "cell_type": "code",
   "execution_count": null,
   "metadata": {},
   "outputs": [],
   "source": [
    "ad.llm.get_available_models()"
   ]
  },
  {
   "cell_type": "code",
   "execution_count": null,
   "metadata": {},
   "outputs": [],
   "source": [
    "for model in ad.llm.get_supported_models():\n",
    "    if not ad.llm.is_supported_model(model):\n",
    "        raise Exception(f\"Model {model} is not supported\")"
   ]
  },
  {
   "cell_type": "code",
   "execution_count": null,
   "metadata": {},
   "outputs": [],
   "source": [
    "litellm.models_by_provider.keys()"
   ]
  },
  {
   "cell_type": "code",
   "execution_count": null,
   "metadata": {},
   "outputs": [],
   "source": [
    "await ad.llm.providers.setup_llm_providers(analytiq_client)"
   ]
  },
  {
   "cell_type": "code",
   "execution_count": null,
   "metadata": {},
   "outputs": [],
   "source": [
    "import os\n",
    "from litellm import completion\n",
    "\n",
    "aws_keys = ad.aws.get_aws_keys(analytiq_client)\n",
    "aws_access_key_id = aws_keys[\"aws_access_key_id\"]\n",
    "aws_secret_access_key = aws_keys[\"aws_secret_access_key\"]\n",
    "aws_region_name = \"us-east-1\"\n",
    "\n",
    "response = completion(\n",
    "  #provider=\"bedrock\",\n",
    "  #model=\"bedrock/anthropic.claude-sonnet-4-20250514-v1:0\",\n",
    "  #model=\"bedrock/us.anthropic.claude-sonnet-4-20250514-v1:0\",\n",
    "  #model=\"bedrock/arn:aws:bedrock:us-east-1:890742589311:inference-profile/claude-sonnet-4-profile\",\n",
    "  #model=\"bedrock/anthropic.claude-3-7-sonnet-20250219-v1:0\",\n",
    "  #model=\"anthropic.claude-3-5-sonnet-20240620-v1:0\",\n",
    "  #model=\"gemini/gemini-2.0-flash\",\n",
    "  #model=\"gemini/gemini-2.5-flash-preview-05-20\",\n",
    "  model=\"gemini/gemini-2.5-pro-preview-06-05\",\n",
    "  messages=[{ \"content\": \"Hello, how are you?\",\"role\": \"user\"}],\n",
    "  #response_format = {\"type\": \"json_object\"},\n",
    "  aws_access_key_id=aws_access_key_id,\n",
    "  aws_secret_access_key=aws_secret_access_key,\n",
    "  aws_region_name=aws_region_name,\n",
    ")\n",
    "\n",
    "response"
   ]
  },
  {
   "cell_type": "code",
   "execution_count": null,
   "metadata": {},
   "outputs": [],
   "source": [
    "import litellm\n",
    "from litellm import CustomLLM, completion, get_llm_provider\n",
    "\n",
    "\n",
    "class MyCustomLLM(CustomLLM):\n",
    "    def completion(self, *args, **kwargs) -> litellm.ModelResponse:\n",
    "        return litellm.completion(\n",
    "            model=\"gpt-3.5-turbo\",\n",
    "            messages=[{\"role\": \"user\", \"content\": \"Hello world\"}],\n",
    "            mock_response=\"Hi!\",\n",
    "        )  # type: ignore"
   ]
  },
  {
   "cell_type": "code",
   "execution_count": null,
   "metadata": {},
   "outputs": [],
   "source": [
    "my_custom_llm = MyCustomLLM()\n",
    "\n",
    "litellm.custom_provider_map = [ # 👈 KEY STEP - REGISTER HANDLER\n",
    "        {\"provider\": \"my-custom-llm\", \"custom_handler\": my_custom_llm}\n",
    "    ]"
   ]
  },
  {
   "cell_type": "code",
   "execution_count": null,
   "metadata": {},
   "outputs": [],
   "source": [
    "resp = completion(\n",
    "        model=\"my-custom-llm/my-fake-model\",\n",
    "        messages=[{\"role\": \"user\", \"content\": \"Hello world!\"}],\n",
    "    )\n",
    "\n",
    "assert resp.choices[0].message.content == \"Hi!\""
   ]
  },
  {
   "cell_type": "code",
   "execution_count": null,
   "metadata": {},
   "outputs": [],
   "source": [
    "resp"
   ]
  }
 ],
 "metadata": {
  "kernelspec": {
   "display_name": ".venv",
   "language": "python",
   "name": "python3"
  },
  "language_info": {
   "codemirror_mode": {
    "name": "ipython",
    "version": 3
   },
   "file_extension": ".py",
   "mimetype": "text/x-python",
   "name": "python",
   "nbconvert_exporter": "python",
   "pygments_lexer": "ipython3",
   "version": "3.13.5"
  }
 },
 "nbformat": 4,
 "nbformat_minor": 2
}
