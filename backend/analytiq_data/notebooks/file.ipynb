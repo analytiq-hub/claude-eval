{
 "cells": [
  {
   "cell_type": "code",
   "execution_count": 1,
   "metadata": {},
   "outputs": [],
   "source": [
    "%load_ext autoreload\n",
    "%autoreload 2"
   ]
  },
  {
   "cell_type": "code",
   "execution_count": 2,
   "metadata": {},
   "outputs": [],
   "source": [
    "import sys\n",
    "sys.path.append(\"../..\")"
   ]
  },
  {
   "cell_type": "code",
   "execution_count": 5,
   "metadata": {},
   "outputs": [],
   "source": [
    "import os\n",
    "from datetime import datetime, UTC\n",
    "import analytiq_data as ad\n",
    "\n",
    "analytiq_client = ad.common.get_analytiq_client(env=\"dev\")"
   ]
  },
  {
   "cell_type": "code",
   "execution_count": null,
   "metadata": {},
   "outputs": [],
   "source": [
    "pdf_name = \"INV-ASHVIN-AI-000021-1.pdf\"\n",
    "pdf_path = f\"../../data/{pdf_name}\"\n",
    "ad.common.upload_file(analytiq_client, pdf_path)"
   ]
  },
  {
   "cell_type": "code",
   "execution_count": null,
   "metadata": {},
   "outputs": [],
   "source": [
    "for pdf_name in [\"INV-ASHVIN-AI-000021-1.pdf\", \"SummaryBillJul2024-1.pdf\", \"SummaryBillJul2024.pdf\", \"SummaryBillMay2024.pdf\", \n",
    "\"Your ParkWhiz Purchase.pdf\"]:\n",
    "    pdf_path = f\"../../data/{pdf_name}\"\n",
    "    ad.common.upload_file(analytiq_client, pdf_path)"
   ]
  },
  {
   "cell_type": "code",
   "execution_count": null,
   "metadata": {},
   "outputs": [],
   "source": [
    "ad.common.get_file(analytiq_client, file_name=\"INV-ASHVIN-AI-000021-1.pdf\")"
   ]
  },
  {
   "cell_type": "code",
   "execution_count": 7,
   "metadata": {},
   "outputs": [],
   "source": [
    "# Download all the files to a folder\n",
    "pdf_path = f\"../../data2\"\n",
    "\n",
    "ad.common.download_all_files(analytiq_client, output_dir=pdf_path)\n"
   ]
  }
 ],
 "metadata": {
  "kernelspec": {
   "display_name": "doc-router",
   "language": "python",
   "name": "python3"
  },
  "language_info": {
   "codemirror_mode": {
    "name": "ipython",
    "version": 3
   },
   "file_extension": ".py",
   "mimetype": "text/x-python",
   "name": "python",
   "nbconvert_exporter": "python",
   "pygments_lexer": "ipython3",
   "version": "3.13.0"
  }
 },
 "nbformat": 4,
 "nbformat_minor": 2
}
