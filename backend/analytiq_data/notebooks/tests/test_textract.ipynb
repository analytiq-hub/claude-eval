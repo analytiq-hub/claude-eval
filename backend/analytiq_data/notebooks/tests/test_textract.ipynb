{
 "cells": [
  {
   "cell_type": "code",
   "execution_count": 1,
   "metadata": {},
   "outputs": [],
   "source": [
    "%load_ext autoreload\n",
    "%autoreload 2"
   ]
  },
  {
   "cell_type": "code",
   "execution_count": 2,
   "metadata": {},
   "outputs": [],
   "source": [
    "import sys\n",
    "sys.path.append(\"../../..\")\n",
    "\n",
    "import analytiq_data as ad"
   ]
  },
  {
   "cell_type": "code",
   "execution_count": 3,
   "metadata": {},
   "outputs": [],
   "source": [
    "ad.common.setup()"
   ]
  },
  {
   "cell_type": "code",
   "execution_count": 4,
   "metadata": {},
   "outputs": [],
   "source": [
    "analytiq_client = ad.common.get_analytiq_client(env=\"test\")\n",
    "aws_client = ad.aws.get_aws_client(analytiq_client)"
   ]
  },
  {
   "cell_type": "code",
   "execution_count": 9,
   "metadata": {},
   "outputs": [
    {
     "ename": "InvalidId",
     "evalue": "'LNKD_INVOICE_10150268722.pdf' is not a valid ObjectId, it must be a 12-byte input or a 24-character hex string",
     "output_type": "error",
     "traceback": [
      "\u001b[0;31m---------------------------------------------------------------------------\u001b[0m",
      "\u001b[0;31mInvalidId\u001b[0m                                 Traceback (most recent call last)",
      "Cell \u001b[0;32mIn[9], line 2\u001b[0m\n\u001b[1;32m      1\u001b[0m doc_name \u001b[38;5;241m=\u001b[39m \u001b[38;5;124m\"\u001b[39m\u001b[38;5;124mLNKD_INVOICE_10150268722.pdf\u001b[39m\u001b[38;5;124m\"\u001b[39m\n\u001b[0;32m----> 2\u001b[0m file \u001b[38;5;241m=\u001b[39m \u001b[38;5;28;01mawait\u001b[39;00m ad\u001b[38;5;241m.\u001b[39mcommon\u001b[38;5;241m.\u001b[39mget_doc(analytiq_client, doc_name)\n\u001b[1;32m      3\u001b[0m \u001b[38;5;28;01mif\u001b[39;00m file \u001b[38;5;129;01mis\u001b[39;00m \u001b[38;5;28;01mNone\u001b[39;00m:\n\u001b[1;32m      4\u001b[0m     \u001b[38;5;28;01mraise\u001b[39;00m \u001b[38;5;167;01mException\u001b[39;00m(\u001b[38;5;124m\"\u001b[39m\u001b[38;5;124mFile not found\u001b[39m\u001b[38;5;124m\"\u001b[39m)\n",
      "File \u001b[0;32m~/build/analytiq/doc-router/backend/analytiq_data/notebooks/tests/../../../analytiq_data/common/doc.py:33\u001b[0m, in \u001b[0;36mget_doc\u001b[0;34m(analytiq_client, document_id)\u001b[0m\n\u001b[1;32m     30\u001b[0m db \u001b[38;5;241m=\u001b[39m analytiq_client\u001b[38;5;241m.\u001b[39mmongodb_async[db_name]\n\u001b[1;32m     31\u001b[0m collection \u001b[38;5;241m=\u001b[39m db[\u001b[38;5;124m\"\u001b[39m\u001b[38;5;124mdocs\u001b[39m\u001b[38;5;124m\"\u001b[39m]\n\u001b[0;32m---> 33\u001b[0m \u001b[38;5;28;01mreturn\u001b[39;00m \u001b[38;5;28;01mawait\u001b[39;00m collection\u001b[38;5;241m.\u001b[39mfind_one({\u001b[38;5;124m\"\u001b[39m\u001b[38;5;124m_id\u001b[39m\u001b[38;5;124m\"\u001b[39m: \u001b[43mObjectId\u001b[49m\u001b[43m(\u001b[49m\u001b[43mdocument_id\u001b[49m\u001b[43m)\u001b[49m})\n",
      "File \u001b[0;32m~/.venv/doc-router/lib64/python3.13/site-packages/bson/objectid.py:105\u001b[0m, in \u001b[0;36mObjectId.__init__\u001b[0;34m(self, oid)\u001b[0m\n\u001b[1;32m    103\u001b[0m     \u001b[38;5;28mself\u001b[39m\u001b[38;5;241m.\u001b[39m__id \u001b[38;5;241m=\u001b[39m oid\n\u001b[1;32m    104\u001b[0m \u001b[38;5;28;01melse\u001b[39;00m:\n\u001b[0;32m--> 105\u001b[0m     \u001b[38;5;28;43mself\u001b[39;49m\u001b[38;5;241;43m.\u001b[39;49m\u001b[43m__validate\u001b[49m\u001b[43m(\u001b[49m\u001b[43moid\u001b[49m\u001b[43m)\u001b[49m\n",
      "File \u001b[0;32m~/.venv/doc-router/lib64/python3.13/site-packages/bson/objectid.py:193\u001b[0m, in \u001b[0;36mObjectId.__validate\u001b[0;34m(self, oid)\u001b[0m\n\u001b[1;32m    191\u001b[0m             _raise_invalid_id(oid)\n\u001b[1;32m    192\u001b[0m     \u001b[38;5;28;01melse\u001b[39;00m:\n\u001b[0;32m--> 193\u001b[0m         \u001b[43m_raise_invalid_id\u001b[49m\u001b[43m(\u001b[49m\u001b[43moid\u001b[49m\u001b[43m)\u001b[49m\n\u001b[1;32m    194\u001b[0m \u001b[38;5;28;01melse\u001b[39;00m:\n\u001b[1;32m    195\u001b[0m     \u001b[38;5;28;01mraise\u001b[39;00m \u001b[38;5;167;01mTypeError\u001b[39;00m(\u001b[38;5;124mf\u001b[39m\u001b[38;5;124m\"\u001b[39m\u001b[38;5;124mid must be an instance of (bytes, str, ObjectId), not \u001b[39m\u001b[38;5;132;01m{\u001b[39;00m\u001b[38;5;28mtype\u001b[39m(oid)\u001b[38;5;132;01m}\u001b[39;00m\u001b[38;5;124m\"\u001b[39m)\n",
      "File \u001b[0;32m~/.venv/doc-router/lib64/python3.13/site-packages/bson/objectid.py:38\u001b[0m, in \u001b[0;36m_raise_invalid_id\u001b[0;34m(oid)\u001b[0m\n\u001b[1;32m     37\u001b[0m \u001b[38;5;28;01mdef\u001b[39;00m \u001b[38;5;21m_raise_invalid_id\u001b[39m(oid: \u001b[38;5;28mstr\u001b[39m) \u001b[38;5;241m-\u001b[39m\u001b[38;5;241m>\u001b[39m NoReturn:\n\u001b[0;32m---> 38\u001b[0m     \u001b[38;5;28;01mraise\u001b[39;00m InvalidId(\n\u001b[1;32m     39\u001b[0m         \u001b[38;5;124m\"\u001b[39m\u001b[38;5;132;01m%r\u001b[39;00m\u001b[38;5;124m is not a valid ObjectId, it must be a 12-byte input\u001b[39m\u001b[38;5;124m\"\u001b[39m\n\u001b[1;32m     40\u001b[0m         \u001b[38;5;124m\"\u001b[39m\u001b[38;5;124m or a 24-character hex string\u001b[39m\u001b[38;5;124m\"\u001b[39m \u001b[38;5;241m%\u001b[39m oid\n\u001b[1;32m     41\u001b[0m     )\n",
      "\u001b[0;31mInvalidId\u001b[0m: 'LNKD_INVOICE_10150268722.pdf' is not a valid ObjectId, it must be a 12-byte input or a 24-character hex string"
     ]
    }
   ],
   "source": [
    "doc_name = \"LNKD_INVOICE_10150268722.pdf\"\n",
    "file = await ad.common.get_doc(analytiq_client, doc_name)\n",
    "if file is None:\n",
    "    raise Exception(\"File not found\")"
   ]
  },
  {
   "cell_type": "code",
   "execution_count": 8,
   "metadata": {},
   "outputs": [
    {
     "ename": "TypeError",
     "evalue": "'coroutine' object is not subscriptable",
     "output_type": "error",
     "traceback": [
      "\u001b[0;31m---------------------------------------------------------------------------\u001b[0m",
      "\u001b[0;31mTypeError\u001b[0m                                 Traceback (most recent call last)",
      "Cell \u001b[0;32mIn[8], line 1\u001b[0m\n\u001b[0;32m----> 1\u001b[0m blob \u001b[38;5;241m=\u001b[39m \u001b[43mfile\u001b[49m\u001b[43m[\u001b[49m\u001b[38;5;124;43m\"\u001b[39;49m\u001b[38;5;124;43mblob\u001b[39;49m\u001b[38;5;124;43m\"\u001b[39;49m\u001b[43m]\u001b[49m\n\u001b[1;32m      2\u001b[0m ad\u001b[38;5;241m.\u001b[39mlog\u001b[38;5;241m.\u001b[39minfo(\u001b[38;5;124mf\u001b[39m\u001b[38;5;124m\"\u001b[39m\u001b[38;5;124mblob size: \u001b[39m\u001b[38;5;132;01m{\u001b[39;00m\u001b[38;5;28mlen\u001b[39m(blob)\u001b[38;5;132;01m}\u001b[39;00m\u001b[38;5;124m\"\u001b[39m)\n\u001b[1;32m      3\u001b[0m ad\u001b[38;5;241m.\u001b[39mlog\u001b[38;5;241m.\u001b[39minfo(\u001b[38;5;124mf\u001b[39m\u001b[38;5;124m\"\u001b[39m\u001b[38;5;124mblob: \u001b[39m\u001b[38;5;132;01m{\u001b[39;00mblob[:\u001b[38;5;241m100\u001b[39m]\u001b[38;5;132;01m}\u001b[39;00m\u001b[38;5;124m\"\u001b[39m)\n",
      "\u001b[0;31mTypeError\u001b[0m: 'coroutine' object is not subscriptable"
     ]
    }
   ],
   "source": [
    "blob = file[\"blob\"]\n",
    "ad.log.info(f\"blob size: {len(blob)}\")\n",
    "ad.log.info(f\"blob: {blob[:100]}\")"
   ]
  },
  {
   "cell_type": "code",
   "execution_count": null,
   "metadata": {},
   "outputs": [],
   "source": [
    "\n",
    "response = ad.aws.textract.run_textract(aws_client, blob)\n",
    "ad.log.info(f\"response: {response}\")"
   ]
  }
 ],
 "metadata": {
  "kernelspec": {
   "display_name": "doc-router",
   "language": "python",
   "name": "python3"
  },
  "language_info": {
   "codemirror_mode": {
    "name": "ipython",
    "version": 3
   },
   "file_extension": ".py",
   "mimetype": "text/x-python",
   "name": "python",
   "nbconvert_exporter": "python",
   "pygments_lexer": "ipython3",
   "version": "3.13.0"
  }
 },
 "nbformat": 4,
 "nbformat_minor": 2
}
