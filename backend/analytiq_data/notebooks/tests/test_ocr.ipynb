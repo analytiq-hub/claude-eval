{
 "cells": [
  {
   "cell_type": "code",
   "execution_count": 1,
   "metadata": {},
   "outputs": [],
   "source": [
    "%load_ext autoreload\n",
    "%autoreload 2"
   ]
  },
  {
   "cell_type": "code",
   "execution_count": 2,
   "metadata": {},
   "outputs": [],
   "source": [
    "import sys\n",
    "sys.path.append(\"../../..\")"
   ]
  },
  {
   "cell_type": "code",
   "execution_count": 3,
   "metadata": {},
   "outputs": [],
   "source": [
    "import analytiq_data as ad\n",
    "import asyncio\n"
   ]
  },
  {
   "cell_type": "code",
   "execution_count": 4,
   "metadata": {},
   "outputs": [],
   "source": [
    "# Initialize the client\n",
    "analytiq_client = ad.common.get_analytiq_client(env=\"dev\")\n",
    "aws_client = ad.aws.get_aws_client(analytiq_client)"
   ]
  },
  {
   "cell_type": "code",
   "execution_count": 5,
   "metadata": {},
   "outputs": [],
   "source": [
    "msg = {\n",
    "    \"_id\": \"672839809af076d2a5f1d2e5\",\n",
    "    \"msg\": {\n",
    "        \"document_id\": \"6734e4c1f1e37af49b8dc649\",\n",
    "    }\n",
    "}"
   ]
  },
  {
   "cell_type": "code",
   "execution_count": null,
   "metadata": {},
   "outputs": [],
   "source": [
    "await ad.msg_handlers.process_ocr_msg(analytiq_client, aws_client, msg, force=False)"
   ]
  },
  {
   "cell_type": "code",
   "execution_count": null,
   "metadata": {},
   "outputs": [],
   "source": [
    "ad.common.get_ocr_list(analytiq_client, \"6734e4c1f1e37af49b8dc649\")"
   ]
  },
  {
   "cell_type": "code",
   "execution_count": null,
   "metadata": {},
   "outputs": [],
   "source": [
    "ad.common.get_ocr_text(analytiq_client, \"6734e4c1f1e37af49b8dc649\")"
   ]
  },
  {
   "cell_type": "code",
   "execution_count": null,
   "metadata": {},
   "outputs": [],
   "source": [
    "ad.common.get_ocr_text(analytiq_client, \"6734e4c1f1e37af49b8dc649\", page_idx=0)"
   ]
  },
  {
   "cell_type": "code",
   "execution_count": null,
   "metadata": {},
   "outputs": [],
   "source": [
    "ad.common.get_ocr_n_pages(analytiq_client, \"673525274c93e0d26dbeba18\")\n"
   ]
  }
 ],
 "metadata": {
  "kernelspec": {
   "display_name": "doc-router",
   "language": "python",
   "name": "python3"
  },
  "language_info": {
   "codemirror_mode": {
    "name": "ipython",
    "version": 3
   },
   "file_extension": ".py",
   "mimetype": "text/x-python",
   "name": "python",
   "nbconvert_exporter": "python",
   "pygments_lexer": "ipython3",
   "version": "3.13.0"
  }
 },
 "nbformat": 4,
 "nbformat_minor": 2
}
