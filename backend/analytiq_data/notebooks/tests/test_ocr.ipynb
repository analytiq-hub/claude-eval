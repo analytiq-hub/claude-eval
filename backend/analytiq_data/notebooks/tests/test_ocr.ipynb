{
 "cells": [
  {
   "cell_type": "code",
   "execution_count": 1,
   "metadata": {},
   "outputs": [],
   "source": [
    "%load_ext autoreload\n",
    "%autoreload 2"
   ]
  },
  {
   "cell_type": "code",
   "execution_count": 2,
   "metadata": {},
   "outputs": [],
   "source": [
    "import sys\n",
    "sys.path.append(\"../../..\")"
   ]
  },
  {
   "cell_type": "code",
   "execution_count": 3,
   "metadata": {},
   "outputs": [],
   "source": [
    "import analytiq_data as ad\n",
    "import asyncio\n"
   ]
  },
  {
   "cell_type": "code",
   "execution_count": 4,
   "metadata": {},
   "outputs": [],
   "source": [
    "# Initialize the client\n",
    "analytiq_client = ad.common.get_analytiq_client(env=\"dev\")\n",
    "aws_client = ad.aws.get_aws_client(analytiq_client)"
   ]
  },
  {
   "cell_type": "code",
   "execution_count": 5,
   "metadata": {},
   "outputs": [],
   "source": [
    "msg = {\n",
    "    \"_id\": \"672839809af076d2a5f1d2e5\",\n",
    "    \"msg\": {\n",
    "        \"document_id\": \"6734e4c1f1e37af49b8dc649\",\n",
    "    }\n",
    "}"
   ]
  },
  {
   "cell_type": "code",
   "execution_count": 10,
   "metadata": {},
   "outputs": [
    {
     "name": "stdout",
     "output_type": "stream",
     "text": [
      "2024-11-13 13:13:14,453 - [analytiq-data] - INFO: Processing OCR msg: {'_id': '672839809af076d2a5f1d2e5', 'msg': {'document_id': '6734e4c1f1e37af49b8dc649'}}\n",
      "2024-11-13 13:13:14,454 - [analytiq-data] - INFO: Force: False\n",
      "2024-11-13 13:13:14,954 - [analytiq-data] - INFO: OCR dictionary for 6734e4c1f1e37af49b8dc649 already exists. Skipping OCR.\n",
      "2024-11-13 13:13:15,344 - [analytiq-data] - INFO: Deleted message 672839809af076d2a5f1d2e5 with status: completed\n"
     ]
    }
   ],
   "source": [
    "await ad.msg_handlers.process_ocr_msg(analytiq_client, aws_client, msg, force=True)"
   ]
  },
  {
   "cell_type": "code",
   "execution_count": null,
   "metadata": {},
   "outputs": [],
   "source": [
    "ad.common.get_ocr_dict(analytiq_client, \"6734e4c1f1e37af49b8dc649\")"
   ]
  }
 ],
 "metadata": {
  "kernelspec": {
   "display_name": "doc-router",
   "language": "python",
   "name": "python3"
  },
  "language_info": {
   "codemirror_mode": {
    "name": "ipython",
    "version": 3
   },
   "file_extension": ".py",
   "mimetype": "text/x-python",
   "name": "python",
   "nbconvert_exporter": "python",
   "pygments_lexer": "ipython3",
   "version": "3.13.0"
  }
 },
 "nbformat": 4,
 "nbformat_minor": 2
}
