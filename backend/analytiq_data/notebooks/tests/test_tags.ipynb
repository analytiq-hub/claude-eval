{
 "cells": [
  {
   "cell_type": "code",
   "execution_count": 1,
   "metadata": {},
   "outputs": [],
   "source": [
    "%load_ext autoreload\n",
    "%autoreload 2"
   ]
  },
  {
   "cell_type": "code",
   "execution_count": 2,
   "metadata": {},
   "outputs": [],
   "source": [
    "import sys\n",
    "sys.path.append(\"../../..\")"
   ]
  },
  {
   "cell_type": "code",
   "execution_count": 3,
   "metadata": {},
   "outputs": [],
   "source": [
    "import analytiq_data as ad\n",
    "import asyncio\n",
    "import os"
   ]
  },
  {
   "cell_type": "code",
   "execution_count": 4,
   "metadata": {},
   "outputs": [],
   "source": [
    "ad.common.setup()"
   ]
  },
  {
   "cell_type": "code",
   "execution_count": 5,
   "metadata": {},
   "outputs": [],
   "source": [
    "# Initialize the client\n",
    "analytiq_client = ad.common.get_analytiq_client(env=\"test\")"
   ]
  },
  {
   "cell_type": "code",
   "execution_count": 7,
   "metadata": {},
   "outputs": [
    {
     "name": "stdout",
     "output_type": "stream",
     "text": [
      "2024-12-11 22:00:29,152 - [analytiq-data] - INFO: [{'_id': ObjectId('6755093291a83d8a0219a647'), 'name': 'test', 'color': '#211174', 'description': 'Test files', 'created_at': datetime.datetime(2024, 12, 8, 2, 49, 22, 982000), 'created_by': 'andrei@analytiqhub.com'}, {'_id': ObjectId('6755096f91a83d8a0219a648'), 'name': 'debug', 'color': '#a51d2d', 'description': 'Debug files', 'created_at': datetime.datetime(2024, 12, 8, 2, 50, 23, 416000), 'created_by': 'andrei@analytiqhub.com'}]\n",
      "2024-12-11 22:00:29,153 - [analytiq-data] - INFO: db_name: test\n",
      "2024-12-11 22:00:29,154 - [analytiq-data] - INFO: collections: ['files.chunks', 'llm_tokens', 'access_tokens', 'aws_credentials', 'queues.ocr', 'users', 'ocr.files', 'ocr.chunks', 'files.files', 'schema_versions', 'prompts', 'queues.test', 'queues.ocr_err', 'prompt_versions', 'accounts', 'tags', 'llm.runs', 'schemas', 'queues.llm', 'docs']\n"
     ]
    },
    {
     "data": {
      "text/plain": [
       "'6755093291a83d8a0219a647'"
      ]
     },
     "execution_count": 7,
     "metadata": {},
     "output_type": "execute_result"
    }
   ],
   "source": [
    "tag_id = await ad.common.get_tag_id(analytiq_client, \"test\")\n",
    "tag_id"
   ]
  },
  {
   "cell_type": "code",
   "execution_count": null,
   "metadata": {},
   "outputs": [],
   "source": [
    "tag_name = await ad.common.get_tag_name(analytiq_client, tag_id)\n",
    "tag_name\n"
   ]
  }
 ],
 "metadata": {
  "kernelspec": {
   "display_name": "doc-router",
   "language": "python",
   "name": "python3"
  },
  "language_info": {
   "codemirror_mode": {
    "name": "ipython",
    "version": 3
   },
   "file_extension": ".py",
   "mimetype": "text/x-python",
   "name": "python",
   "nbconvert_exporter": "python",
   "pygments_lexer": "ipython3",
   "version": "3.13.0"
  }
 },
 "nbformat": 4,
 "nbformat_minor": 2
}
