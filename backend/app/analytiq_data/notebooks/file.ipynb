{
 "cells": [
  {
   "cell_type": "code",
   "execution_count": 2,
   "metadata": {},
   "outputs": [],
   "source": [
    "%load_ext autoreload\n",
    "%autoreload 2"
   ]
  },
  {
   "cell_type": "code",
   "execution_count": 3,
   "metadata": {},
   "outputs": [],
   "source": [
    "import sys\n",
    "sys.path.append(\"../..\")\n"
   ]
  },
  {
   "cell_type": "code",
   "execution_count": 10,
   "metadata": {},
   "outputs": [],
   "source": [
    "import os\n",
    "from datetime import datetime, UTC\n",
    "import analytiq_data as ad\n",
    "\n",
    "analytiq_client = ad.common.get_client(env=\"dev\")"
   ]
  },
  {
   "cell_type": "code",
   "execution_count": 12,
   "metadata": {},
   "outputs": [],
   "source": [
    "def read_and_save_pdf(analytiq_client, file_path: str):\n",
    "    \"\"\"\n",
    "    Read a PDF file and save it using the file API\n",
    "    \n",
    "    Args:\n",
    "        analytiq_client: AnalytiqClient\n",
    "            The analytiq client\n",
    "        file_path : str\n",
    "            Path to the PDF file\n",
    "    \"\"\"\n",
    "    # Check if the file exists\n",
    "    if not os.path.exists(file_path):\n",
    "        raise FileNotFoundError(f\"The file {file_path} does not exist.\")\n",
    "\n",
    "    # Read the PDF file\n",
    "    with open(file_path, 'rb') as file:\n",
    "        blob = file.read()\n",
    "\n",
    "    # Get the file name from the path\n",
    "    file_name = os.path.basename(file_path)\n",
    "\n",
    "    # Create metadata\n",
    "    metadata = {\n",
    "        \"name\": file_name,\n",
    "        \"type\": \"application/pdf\",\n",
    "        \"size\": len(blob),\n",
    "        \"created_at\": datetime.now(UTC),\n",
    "        \"updated_at\": datetime.now(UTC)\n",
    "    }\n",
    "\n",
    "    # Save the file using the save_file function\n",
    "    ad.common.save_file(analytiq_client, file_name, blob, metadata)\n",
    "\n",
    "    print(f\"File {file_name} has been successfully saved.\")"
   ]
  },
  {
   "cell_type": "code",
   "execution_count": null,
   "metadata": {},
   "outputs": [],
   "source": [
    "pdf_name = \"INV-ASHVIN-AI-000021-1.pdf\"\n",
    "pdf_path = f\"../../data/{pdf_name}\"\n",
    "read_and_save_pdf(analytiq_client, pdf_path)"
   ]
  },
  {
   "cell_type": "code",
   "execution_count": 4,
   "metadata": {},
   "outputs": [],
   "source": [
    "mongodb = analytiq_client.mongodb\n",
    "\n",
    "# List files in the docs collection\n",
    "docs_collection = mongodb.dev.docs"
   ]
  },
  {
   "cell_type": "code",
   "execution_count": null,
   "metadata": {},
   "outputs": [],
   "source": [
    "doc = await docs_collection.find_one()\n",
    "print(f\"First document in docs_collection: {doc}\")"
   ]
  },
  {
   "cell_type": "code",
   "execution_count": null,
   "metadata": {},
   "outputs": [],
   "source": [
    "ad.mongodb.file.save_file(analytiq_client, \"666123456789012345678901\", \"andrei\")"
   ]
  }
 ],
 "metadata": {
  "kernelspec": {
   "display_name": "doc-router",
   "language": "python",
   "name": "python3"
  },
  "language_info": {
   "codemirror_mode": {
    "name": "ipython",
    "version": 3
   },
   "file_extension": ".py",
   "mimetype": "text/x-python",
   "name": "python",
   "nbconvert_exporter": "python",
   "pygments_lexer": "ipython3",
   "version": "3.12.6"
  }
 },
 "nbformat": 4,
 "nbformat_minor": 2
}
